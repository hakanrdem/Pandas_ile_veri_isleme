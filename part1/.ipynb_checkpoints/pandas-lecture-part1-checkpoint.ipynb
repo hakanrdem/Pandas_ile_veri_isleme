{
 "cells": [
  {
   "cell_type": "markdown",
   "metadata": {
    "id": "9L9BewHp4eOF"
   },
   "source": [
    "# PANDAS "
   ]
  },
  {
   "cell_type": "markdown",
   "metadata": {
    "id": "LFtE9nEk4eOH"
   },
   "source": [
    "## Series "
   ]
  },
  {
   "cell_type": "markdown",
   "metadata": {
    "id": "pgGwX4Zr4eOI"
   },
   "source": [
    "A Series is a one-dimensional array-like object containing a sequence of values (of similar types to NumPy types) and an associated array of data labels, called its index."
   ]
  },
  {
   "cell_type": "code",
   "execution_count": 1,
   "metadata": {
    "executionInfo": {
     "elapsed": 5,
     "status": "ok",
     "timestamp": 1629619364278,
     "user": {
      "displayName": "sefer baday",
      "photoUrl": "",
      "userId": "05968790297977678638"
     },
     "user_tz": -180
    },
    "id": "XfLQjPcV4eOJ"
   },
   "outputs": [],
   "source": [
    "import pandas as pd"
   ]
  },
  {
   "cell_type": "code",
   "execution_count": 2,
   "metadata": {
    "id": "voFp-Tvu4eOJ",
    "outputId": "c29dc291-c9c4-4d32-872b-d9534da01689"
   },
   "outputs": [
    {
     "data": {
      "text/plain": [
       "0    4\n",
       "1    7\n",
       "2   -5\n",
       "3    3\n",
       "dtype: int64"
      ]
     },
     "execution_count": 2,
     "metadata": {},
     "output_type": "execute_result"
    }
   ],
   "source": [
    "obj = pd.Series([4, 7, -5, 3]);obj"
   ]
  },
  {
   "cell_type": "markdown",
   "metadata": {
    "id": "ASHagm0Y4eOK"
   },
   "source": [
    "You can get the array representation and index object of the Series via its values and index attributes, respectively:"
   ]
  },
  {
   "cell_type": "code",
   "execution_count": 3,
   "metadata": {},
   "outputs": [
    {
     "data": {
      "text/plain": [
       "pandas.core.series.Series"
      ]
     },
     "execution_count": 3,
     "metadata": {},
     "output_type": "execute_result"
    }
   ],
   "source": [
    "type(obj)"
   ]
  },
  {
   "cell_type": "code",
   "execution_count": null,
   "metadata": {
    "id": "_VW-xnMR4eOL"
   },
   "outputs": [],
   "source": [
    "obj.values"
   ]
  },
  {
   "cell_type": "code",
   "execution_count": null,
   "metadata": {
    "id": "hT3yh2ek4eOL"
   },
   "outputs": [],
   "source": [
    "obj.index"
   ]
  },
  {
   "cell_type": "markdown",
   "metadata": {
    "id": "tMZgDl4m4eOM"
   },
   "source": [
    "We can assign indices to data points"
   ]
  },
  {
   "cell_type": "code",
   "execution_count": null,
   "metadata": {
    "id": "7_27KVR04eOM"
   },
   "outputs": [],
   "source": [
    "obj2 = pd.Series([4, 7, -5, 3], index=['d', 'b', 'a', 'c'])"
   ]
  },
  {
   "cell_type": "code",
   "execution_count": null,
   "metadata": {
    "id": "StvK3OOZ4eOO"
   },
   "outputs": [],
   "source": [
    "obj2"
   ]
  },
  {
   "cell_type": "markdown",
   "metadata": {
    "id": "-DAEKQiV4eOO"
   },
   "source": [
    "you can use labels in the index when selecting single values or a set of values:"
   ]
  },
  {
   "cell_type": "code",
   "execution_count": null,
   "metadata": {
    "id": "gaOXaCyL4eOO"
   },
   "outputs": [],
   "source": [
    "obj2['a']"
   ]
  },
  {
   "cell_type": "code",
   "execution_count": null,
   "metadata": {
    "id": "PSIxqmNO4eOP"
   },
   "outputs": [],
   "source": [
    "obj2[['c', 'a', 'd']]"
   ]
  },
  {
   "cell_type": "markdown",
   "metadata": {
    "id": "kSYpwNTa4eOP"
   },
   "source": [
    "Using NumPy functions or NumPy-like operations, such as filtering with a boolean array, scalar multiplication, or applying math functions, will preserve the index-value link:"
   ]
  },
  {
   "cell_type": "code",
   "execution_count": null,
   "metadata": {
    "id": "8Ssh4fEO4eOP"
   },
   "outputs": [],
   "source": [
    "obj2[obj2 > 0]"
   ]
  },
  {
   "cell_type": "code",
   "execution_count": null,
   "metadata": {
    "id": "MJouTnyt4eOP"
   },
   "outputs": [],
   "source": [
    "obj2 > 0"
   ]
  },
  {
   "cell_type": "code",
   "execution_count": null,
   "metadata": {
    "id": "Yejdz01M4eOQ"
   },
   "outputs": [],
   "source": [
    "obj2*2"
   ]
  },
  {
   "cell_type": "markdown",
   "metadata": {
    "id": "03j63-f74eOQ"
   },
   "source": [
    "Another way to think about a Series is as a fixed-length, ordered dict, as it is a map‐ ping of index values to data values. \n",
    "<br> It can be used in many contexts where you might use a dict:"
   ]
  },
  {
   "cell_type": "code",
   "execution_count": null,
   "metadata": {
    "id": "AH8jx_aS4eOR"
   },
   "outputs": [],
   "source": [
    " 'b' in obj2"
   ]
  },
  {
   "cell_type": "code",
   "execution_count": null,
   "metadata": {
    "id": "jH6BnSwN4eOR"
   },
   "outputs": [],
   "source": [
    " 'e' in obj2"
   ]
  },
  {
   "cell_type": "markdown",
   "metadata": {
    "id": "M4OwEcDf4eOR"
   },
   "source": [
    "if you have dictionary you can create a series from it"
   ]
  },
  {
   "cell_type": "code",
   "execution_count": null,
   "metadata": {
    "id": "mVkyAN8k4eOS"
   },
   "outputs": [],
   "source": [
    " sdata = {'Ohio': 35000, 'Texas': 71000, 'Oregon': 16000, 'Utah': 5000}"
   ]
  },
  {
   "cell_type": "code",
   "execution_count": null,
   "metadata": {
    "id": "29hc9d1H4eOS"
   },
   "outputs": [],
   "source": [
    "obj3 = pd.Series(sdata)"
   ]
  },
  {
   "cell_type": "code",
   "execution_count": null,
   "metadata": {
    "id": "FoDYOzFA4eOS"
   },
   "outputs": [],
   "source": [
    "obj3"
   ]
  },
  {
   "cell_type": "markdown",
   "metadata": {
    "id": "fc_tDFPg4eOS"
   },
   "source": [
    "When you are only passing a dict, the index in the resulting Series will have the dict’s keys in sorted order. \n",
    "<br> You can override this by passing the dict keys in the order you want them to appear in the resulting Series:"
   ]
  },
  {
   "cell_type": "code",
   "execution_count": null,
   "metadata": {
    "id": "W9t3JSwv4eOT"
   },
   "outputs": [],
   "source": [
    "states = ['California', 'Ohio', 'Oregon', 'Texas']"
   ]
  },
  {
   "cell_type": "code",
   "execution_count": null,
   "metadata": {
    "id": "Qv7VTW_Q4eOT"
   },
   "outputs": [],
   "source": [
    "obj4 = pd.Series(sdata, index=states);obj4"
   ]
  },
  {
   "cell_type": "markdown",
   "metadata": {
    "id": "z7Hjl__i4eOT"
   },
   "source": [
    "Here, three values found in sdata were placed in the appropriate locations, but since no value for 'California' was found, it appears as NaN (not a number), which is con‐ sidered in pandas to mark missing or NA values. \n",
    "<br> Since 'Utah' was not included in states, it is excluded from the resulting object."
   ]
  },
  {
   "cell_type": "markdown",
   "metadata": {
    "id": "BKaD5TWS4eOT"
   },
   "source": [
    "The isnull and notnull functions in pandas should be used to detect missing data:"
   ]
  },
  {
   "cell_type": "code",
   "execution_count": null,
   "metadata": {
    "id": "ODfaAGEU4eOT"
   },
   "outputs": [],
   "source": [
    "pd.isnull(obj4)"
   ]
  },
  {
   "cell_type": "code",
   "execution_count": null,
   "metadata": {
    "id": "EcvJ5RXy4eOU"
   },
   "outputs": [],
   "source": [
    "pd.notnull(obj4)"
   ]
  },
  {
   "cell_type": "markdown",
   "metadata": {
    "id": "wRSsWpnF4eOU"
   },
   "source": [
    "Series also has these as instance methods:"
   ]
  },
  {
   "cell_type": "code",
   "execution_count": null,
   "metadata": {
    "id": "BDXjyeZN4eOU"
   },
   "outputs": [],
   "source": [
    "obj4.isnull()"
   ]
  },
  {
   "cell_type": "markdown",
   "metadata": {
    "id": "gQ7cIpGL4eOV"
   },
   "source": [
    "Both the Series object itself and its index have a name attribute which could be important in other parts of pandas"
   ]
  },
  {
   "cell_type": "code",
   "execution_count": null,
   "metadata": {
    "id": "LpuvMeAo4eOV"
   },
   "outputs": [],
   "source": [
    "obj4.name = 'population'"
   ]
  },
  {
   "cell_type": "code",
   "execution_count": null,
   "metadata": {
    "id": "uUjHFdUn4eOV"
   },
   "outputs": [],
   "source": [
    "obj4.index.name = 'state'"
   ]
  },
  {
   "cell_type": "code",
   "execution_count": null,
   "metadata": {
    "id": "IorD-ZP54eOV"
   },
   "outputs": [],
   "source": [
    "obj4"
   ]
  },
  {
   "cell_type": "markdown",
   "metadata": {
    "id": "prxpyFBX4eOW"
   },
   "source": [
    "## DataFrame"
   ]
  },
  {
   "cell_type": "markdown",
   "metadata": {
    "id": "g_VLFc714eOW"
   },
   "source": [
    "A DataFrame represents a rectangular table of data and contains an ordered collection of columns, each of which can be a different value type (numeric, string, boolean, etc."
   ]
  },
  {
   "cell_type": "markdown",
   "metadata": {
    "id": "0SLd4LNE4eOW"
   },
   "source": [
    "To create a dataframe you should call pd.DataFrame() function"
   ]
  },
  {
   "cell_type": "code",
   "execution_count": null,
   "metadata": {
    "id": "del5FWv64eOW"
   },
   "outputs": [],
   "source": [
    "df=pd.DataFrame([[1,2,3],[4,5,6]]);df"
   ]
  },
  {
   "cell_type": "markdown",
   "metadata": {
    "id": "TlkPRohA4eOW"
   },
   "source": [
    "Since we did not explicity set indices and columns it assigned numbers from 0 to N"
   ]
  },
  {
   "cell_type": "code",
   "execution_count": null,
   "metadata": {
    "id": "qCmyVDo74eOW"
   },
   "outputs": [],
   "source": [
    "df=pd.DataFrame([[1,2,3],[4,5,6]],index=[\"a\",\"b\"],columns=list(\"klm\"));df"
   ]
  },
  {
   "cell_type": "markdown",
   "metadata": {
    "id": "reJnPRbk4eOW"
   },
   "source": [
    "There are many ways to construct a DataFrame, though one of the most common is from a dict of equal-length lists or NumPy arrays"
   ]
  },
  {
   "cell_type": "code",
   "execution_count": null,
   "metadata": {
    "id": "lMs0WUsl4eOW"
   },
   "outputs": [],
   "source": [
    "data = {'state': ['Ohio', 'Ohio', 'Ohio', 'Nevada', 'Nevada', 'Nevada'],\n",
    "            'year': [2000, 2001, 2002, 2001, 2002, 2003],\n",
    "            'pop': [1.5, 1.7, 3.6, 2.4, 2.9, 3.2]}"
   ]
  },
  {
   "cell_type": "code",
   "execution_count": null,
   "metadata": {
    "id": "jytuoOAM4eOX"
   },
   "outputs": [],
   "source": [
    "data"
   ]
  },
  {
   "cell_type": "code",
   "execution_count": null,
   "metadata": {
    "id": "Kpe_QXrs4eOX"
   },
   "outputs": [],
   "source": [
    "frame = pd.DataFrame(data);frame"
   ]
  },
  {
   "cell_type": "markdown",
   "metadata": {
    "id": "yYEaRqc14eOX"
   },
   "source": [
    "# Getting columns of a dataframe"
   ]
  },
  {
   "cell_type": "markdown",
   "metadata": {
    "id": "RKNIwKc24eOY"
   },
   "source": [
    "A column in a DataFrame can be retrieved as a Series either by dict-like notation or by attribute:"
   ]
  },
  {
   "cell_type": "code",
   "execution_count": null,
   "metadata": {
    "id": "guk8-OVn4eOY"
   },
   "outputs": [],
   "source": [
    "frame[\"state\"]"
   ]
  },
  {
   "cell_type": "code",
   "execution_count": null,
   "metadata": {
    "id": "j4WZ3Tr-4eOY"
   },
   "outputs": [],
   "source": [
    "frame.state"
   ]
  },
  {
   "cell_type": "markdown",
   "metadata": {
    "id": "e5SEItHX4eOY"
   },
   "source": [
    "get the year columns"
   ]
  },
  {
   "cell_type": "code",
   "execution_count": null,
   "metadata": {
    "id": "UrL0KeJP4eOZ"
   },
   "outputs": [],
   "source": []
  },
  {
   "cell_type": "markdown",
   "metadata": {
    "id": "NU5-Yd4l4eOZ"
   },
   "source": [
    "frame2[column] works for any column name, but frame2.column only works when the column name is a valid Python variable name.\n",
    "<br> for example if there is space in the column name frame2.column will not work"
   ]
  },
  {
   "cell_type": "markdown",
   "metadata": {
    "id": "lC8y2aPj4eOZ"
   },
   "source": [
    "Columns can be modified by assignment"
   ]
  },
  {
   "cell_type": "code",
   "execution_count": null,
   "metadata": {
    "id": "3VzV-QkU4eOZ"
   },
   "outputs": [],
   "source": [
    "frame['debt'] = 16.5 ; frame"
   ]
  },
  {
   "cell_type": "markdown",
   "metadata": {
    "id": "mJ3QYqG94eOZ"
   },
   "source": [
    "When you are assigning lists or arrays to a column, the value’s length must match the length of the DataFrame"
   ]
  },
  {
   "cell_type": "code",
   "execution_count": null,
   "metadata": {
    "id": "Cb_x1ssT4eOa"
   },
   "outputs": [],
   "source": [
    "import numpy as np"
   ]
  },
  {
   "cell_type": "code",
   "execution_count": null,
   "metadata": {
    "id": "H8uwMsLm4eOa"
   },
   "outputs": [],
   "source": [
    "frame['debt'] = np.arange(10,16) ; frame"
   ]
  },
  {
   "cell_type": "markdown",
   "metadata": {
    "id": "4cVVHsUc4eOa"
   },
   "source": [
    "Try above script np.arange(10,17)"
   ]
  },
  {
   "cell_type": "code",
   "execution_count": null,
   "metadata": {
    "id": "70SMc3NU4eOa"
   },
   "outputs": [],
   "source": []
  },
  {
   "cell_type": "markdown",
   "metadata": {
    "id": "dfeZchD54eOa"
   },
   "source": [
    "If you assign a Series, its labels will be realigned exactly to the DataFrame’s index, inserting missing values in any holes:"
   ]
  },
  {
   "cell_type": "code",
   "execution_count": null,
   "metadata": {
    "id": "hZmM-nyw4eOa"
   },
   "outputs": [],
   "source": [
    "val = pd.Series([-1.2, -1.5, -1.7], index=['two', 'four', 'five']); val"
   ]
  },
  {
   "cell_type": "code",
   "execution_count": null,
   "metadata": {
    "id": "EHICrW6k4eOb"
   },
   "outputs": [],
   "source": []
  },
  {
   "cell_type": "markdown",
   "metadata": {
    "id": "MaggoDqI4eOb"
   },
   "source": [
    "first create a dataframe with indices name this dataframe as frame2"
   ]
  },
  {
   "cell_type": "code",
   "execution_count": null,
   "metadata": {
    "id": "Pd8Iw9wd4eOb"
   },
   "outputs": [],
   "source": [
    "frame2 = pd.DataFrame(data, columns=['year', 'state', 'pop', 'debt'],\n",
    "                          index=['one', 'two', 'three', 'four',\n",
    "                                     'five', 'six'])"
   ]
  },
  {
   "cell_type": "code",
   "execution_count": null,
   "metadata": {
    "id": "SRRtllzG4eOb"
   },
   "outputs": [],
   "source": [
    "frame2"
   ]
  },
  {
   "cell_type": "markdown",
   "metadata": {
    "id": "S5b1sUya4eOb"
   },
   "source": [
    "assing debt column with np.arange(1,7)"
   ]
  },
  {
   "cell_type": "code",
   "execution_count": null,
   "metadata": {
    "id": "jy5XcoJ64eOc"
   },
   "outputs": [],
   "source": []
  },
  {
   "cell_type": "markdown",
   "metadata": {
    "id": "ZSYifw674eOc"
   },
   "source": [
    "now assign debt column as val series"
   ]
  },
  {
   "cell_type": "code",
   "execution_count": null,
   "metadata": {
    "id": "qcOt-f5d4eOc"
   },
   "outputs": [],
   "source": []
  },
  {
   "cell_type": "code",
   "execution_count": null,
   "metadata": {
    "id": "TtT96pO54eOc"
   },
   "outputs": [],
   "source": [
    "frame2"
   ]
  },
  {
   "cell_type": "code",
   "execution_count": null,
   "metadata": {
    "id": "9LzsW8AO4eOd"
   },
   "outputs": [],
   "source": []
  },
  {
   "cell_type": "markdown",
   "metadata": {
    "id": "4aeFYAue4eOd"
   },
   "source": [
    "The del keyword will delete columns as with a dict."
   ]
  },
  {
   "cell_type": "code",
   "execution_count": null,
   "metadata": {
    "id": "uVA-8EFR4eOd"
   },
   "outputs": [],
   "source": [
    "del frame2[\"debt\"];frame2"
   ]
  },
  {
   "cell_type": "markdown",
   "metadata": {
    "id": "AatjdV4V4eOd"
   },
   "source": [
    "to create a new column you should assignment"
   ]
  },
  {
   "cell_type": "code",
   "execution_count": null,
   "metadata": {
    "id": "aaYraelr4eOd"
   },
   "outputs": [],
   "source": [
    "frame2[\"size\"]=np.arange(100,700,100);frame2"
   ]
  },
  {
   "cell_type": "markdown",
   "metadata": {
    "id": "oNTUAIO_4eOd"
   },
   "source": [
    "frame2.columns and frame2.index return columsn and indices"
   ]
  },
  {
   "cell_type": "code",
   "execution_count": null,
   "metadata": {
    "id": "oWbwIRy24eOe"
   },
   "outputs": [],
   "source": [
    "frame2.columns "
   ]
  },
  {
   "cell_type": "code",
   "execution_count": null,
   "metadata": {
    "id": "Qh1nFzQf4eOe"
   },
   "outputs": [],
   "source": [
    "frame2.index"
   ]
  },
  {
   "cell_type": "code",
   "execution_count": null,
   "metadata": {
    "id": "Et6bi9DE4eOe"
   },
   "outputs": [],
   "source": [
    "frame2.values"
   ]
  },
  {
   "cell_type": "markdown",
   "metadata": {
    "id": "Xj7qZnYb4eOe"
   },
   "source": [
    "If the DataFrame’s columns are different dtypes, the dtype of the values array will be chosen to accommodate all of the columns:"
   ]
  },
  {
   "cell_type": "markdown",
   "metadata": {
    "id": "FpgD_qce4eOe"
   },
   "source": [
    "## Possible data inputs to DataFrame constructor"
   ]
  },
  {
   "cell_type": "markdown",
   "metadata": {
    "id": "am6_piSt4eOe"
   },
   "source": [
    "![Screen%20Shot%202018-11-09%20at%2018.15.54.png](attachment:Screen%20Shot%202018-11-09%20at%2018.15.54.png)"
   ]
  },
  {
   "cell_type": "markdown",
   "metadata": {
    "id": "jDo52LRM4eOe"
   },
   "source": [
    "## Reindexing"
   ]
  },
  {
   "cell_type": "markdown",
   "metadata": {
    "id": "7SGxC9jP4eOf"
   },
   "source": [
    "An important method on pandas objects is reindex, which means to create a new object with the data conformed to a new index."
   ]
  },
  {
   "cell_type": "code",
   "execution_count": null,
   "metadata": {
    "id": "rdmvrgrw4eOf"
   },
   "outputs": [],
   "source": [
    "obj = pd.Series([4.5, 7.2, -5.3, 3.6], index=['d', 'b', 'a', 'c']);obj"
   ]
  },
  {
   "cell_type": "code",
   "execution_count": null,
   "metadata": {
    "id": "Mwt3jZ1v4eOf"
   },
   "outputs": [],
   "source": [
    "obj2 = obj.reindex(['a', 'b', 'c', 'd', 'e']);obj2"
   ]
  },
  {
   "cell_type": "markdown",
   "metadata": {
    "id": "7E3eVM-h4eOf"
   },
   "source": [
    "With DataFrame, reindex can alter either the (row) index, columns, or both. \n",
    "<br> When passed only a sequence, it reindexes the rows in the result:"
   ]
  },
  {
   "cell_type": "code",
   "execution_count": null,
   "metadata": {
    "id": "f_JRcHjX4eOf"
   },
   "outputs": [],
   "source": [
    "frame = pd.DataFrame(np.arange(9).reshape((3, 3)),\n",
    "                             index=['a', 'c', 'd'],\n",
    "                            columns=['Ohio', 'Texas', 'California'])"
   ]
  },
  {
   "cell_type": "code",
   "execution_count": null,
   "metadata": {
    "id": "igsfeypJ4eOf"
   },
   "outputs": [],
   "source": [
    "frame"
   ]
  },
  {
   "cell_type": "code",
   "execution_count": null,
   "metadata": {
    "id": "LuoP2OUz4eOg"
   },
   "outputs": [],
   "source": [
    "frame2 = frame.reindex(['a', 'b', 'c', 'd']); frame2"
   ]
  },
  {
   "cell_type": "markdown",
   "metadata": {
    "id": "GD88lBtA4eOg"
   },
   "source": [
    "The columns can be reindexed with the columns keyword:"
   ]
  },
  {
   "cell_type": "code",
   "execution_count": null,
   "metadata": {
    "id": "VmHc6Fw-4eOg"
   },
   "outputs": [],
   "source": [
    "states = ['Texas', 'Utah', 'California']"
   ]
  },
  {
   "cell_type": "code",
   "execution_count": null,
   "metadata": {
    "id": "WOfPX2AX4eOh"
   },
   "outputs": [],
   "source": [
    "frame.reindex(columns=states)"
   ]
  },
  {
   "cell_type": "markdown",
   "metadata": {
    "id": "IyZsoB424eOh"
   },
   "source": [
    "## Dropping Entries from an Axis"
   ]
  },
  {
   "cell_type": "markdown",
   "metadata": {
    "id": "DdU0Md9-4eOh"
   },
   "source": [
    "Dropping one or more entries from an axis is easy if you already have an index array or list without those entries. \n",
    "<br> drop method will return a new object with the indicated value or values deleted from an axis:"
   ]
  },
  {
   "cell_type": "code",
   "execution_count": null,
   "metadata": {
    "id": "ALDFk_TP4eOi"
   },
   "outputs": [],
   "source": [
    "obj = pd.Series(np.arange(5.), index=['a', 'b', 'c', 'd', 'e']);obj"
   ]
  },
  {
   "cell_type": "code",
   "execution_count": null,
   "metadata": {
    "id": "6yZHIb0b4eOj"
   },
   "outputs": [],
   "source": [
    " new_obj = obj.drop('c') ; new_obj"
   ]
  },
  {
   "cell_type": "code",
   "execution_count": null,
   "metadata": {
    "id": "Tst84tkL4eOj"
   },
   "outputs": [],
   "source": [
    " data = pd.DataFrame(np.arange(16).reshape((4, 4)),\n",
    "                           index=['Ohio', 'Colorado', 'Utah', 'New York'],\n",
    "                           columns=['one', 'two', 'three', 'four'])\n"
   ]
  },
  {
   "cell_type": "code",
   "execution_count": null,
   "metadata": {
    "id": "h2cGV-Q94eOj"
   },
   "outputs": [],
   "source": [
    "data"
   ]
  },
  {
   "cell_type": "code",
   "execution_count": null,
   "metadata": {
    "id": "pjcZmTeh4eOk"
   },
   "outputs": [],
   "source": [
    "data.drop(['Colorado', 'Ohio'])"
   ]
  },
  {
   "cell_type": "markdown",
   "metadata": {
    "id": "TnDuj7wc4eOk"
   },
   "source": [
    "You can drop values from the columns by passing axis=1 or axis='columns':"
   ]
  },
  {
   "cell_type": "code",
   "execution_count": null,
   "metadata": {
    "id": "tRxEM_h-4eOk"
   },
   "outputs": [],
   "source": [
    "data.drop('two', axis=1)"
   ]
  },
  {
   "cell_type": "markdown",
   "metadata": {
    "id": "v-9TcOCB4eOk"
   },
   "source": [
    "drop columns \"one\" and \"four\""
   ]
  },
  {
   "cell_type": "code",
   "execution_count": null,
   "metadata": {
    "id": "btccN8HF4eOl"
   },
   "outputs": [],
   "source": []
  },
  {
   "cell_type": "markdown",
   "metadata": {
    "id": "8dFmYC714eOl"
   },
   "source": [
    "Many functions, like drop, which modify the size or shape of a Series or DataFrame, can manipulate an object in-place without returning a new object:"
   ]
  },
  {
   "cell_type": "code",
   "execution_count": null,
   "metadata": {
    "id": "wq414ly34eOl"
   },
   "outputs": [],
   "source": [
    " data.drop(['two', 'three'], axis='columns',inplace=True)"
   ]
  },
  {
   "cell_type": "code",
   "execution_count": null,
   "metadata": {
    "id": "BCN5yPSA4eOl"
   },
   "outputs": [],
   "source": [
    "data"
   ]
  },
  {
   "cell_type": "markdown",
   "metadata": {
    "id": "2R45cTq-4eOl"
   },
   "source": [
    "## Indexing, Selection, and Filtering"
   ]
  },
  {
   "cell_type": "code",
   "execution_count": null,
   "metadata": {
    "id": "9Mu22ETn4eOm"
   },
   "outputs": [],
   "source": [
    "data = pd.DataFrame(np.arange(16).reshape((4, 4)),\n",
    "                           index=['Ohio', 'Colorado', 'Utah', 'New York'],\n",
    "                           columns=['one', 'two', 'three', 'four'])"
   ]
  },
  {
   "cell_type": "code",
   "execution_count": null,
   "metadata": {
    "id": "T5KiMzbg4eOm"
   },
   "outputs": [],
   "source": [
    "data"
   ]
  },
  {
   "cell_type": "code",
   "execution_count": null,
   "metadata": {
    "id": "YbCOdJck4eOm"
   },
   "outputs": [],
   "source": [
    "data['two']"
   ]
  },
  {
   "cell_type": "code",
   "execution_count": null,
   "metadata": {
    "id": "Ct-_tSrg4eOm"
   },
   "outputs": [],
   "source": [
    "data[:2]"
   ]
  },
  {
   "cell_type": "markdown",
   "metadata": {
    "id": "o7kd2nvd4eOm"
   },
   "source": [
    "The row selection syntax data[:2] is provided as a convenience. \n",
    "<br> Passing a single element or a list to the [] operator selects columns."
   ]
  },
  {
   "cell_type": "markdown",
   "metadata": {
    "id": "ajGbOc-A4eOn"
   },
   "source": [
    "## booelan indexing "
   ]
  },
  {
   "cell_type": "code",
   "execution_count": null,
   "metadata": {
    "id": "17PhctgN4eOn"
   },
   "outputs": [],
   "source": [
    "data['three'] > 5"
   ]
  },
  {
   "cell_type": "code",
   "execution_count": null,
   "metadata": {
    "id": "vluLW3gT4eOn"
   },
   "outputs": [],
   "source": [
    "data[data['three'] > 5]"
   ]
  },
  {
   "cell_type": "markdown",
   "metadata": {
    "id": "e3vVoBCp4eOn"
   },
   "source": [
    "## Selection with loc and iloc"
   ]
  },
  {
   "cell_type": "markdown",
   "metadata": {
    "id": "W2CuF6kr4eOn"
   },
   "source": [
    "we can select a subset of rows or columns\n",
    "<br> iloc: positional index\n",
    "<br> loc: label index"
   ]
  },
  {
   "cell_type": "code",
   "execution_count": null,
   "metadata": {
    "id": "fFAWRLqz4eOn"
   },
   "outputs": [],
   "source": [
    "data"
   ]
  },
  {
   "cell_type": "code",
   "execution_count": null,
   "metadata": {
    "id": "-_REIh8Z4eOn"
   },
   "outputs": [],
   "source": [
    " data.loc['Colorado', ['two', 'three']]"
   ]
  },
  {
   "cell_type": "code",
   "execution_count": null,
   "metadata": {
    "id": "6cfoZj-d4eOo"
   },
   "outputs": [],
   "source": [
    " data.loc['Colorado']"
   ]
  },
  {
   "cell_type": "code",
   "execution_count": null,
   "metadata": {
    "id": "_9ePsKvj4eOo"
   },
   "outputs": [],
   "source": [
    " data.loc[['Colorado',\"Utah\"]]"
   ]
  },
  {
   "cell_type": "code",
   "execution_count": null,
   "metadata": {
    "id": "xFck1UMN4eOo"
   },
   "outputs": [],
   "source": [
    " data.loc[:,['two',\"four\"]]"
   ]
  },
  {
   "cell_type": "markdown",
   "metadata": {
    "id": "WL895D4c4eOo"
   },
   "source": [
    "get ohio and utah rows"
   ]
  },
  {
   "cell_type": "code",
   "execution_count": null,
   "metadata": {
    "id": "GB-5i5wu4eOo"
   },
   "outputs": [],
   "source": []
  },
  {
   "cell_type": "markdown",
   "metadata": {
    "id": "z5nn6-IX4eOp"
   },
   "source": [
    "get only \"one\" \"three\" columns"
   ]
  },
  {
   "cell_type": "code",
   "execution_count": null,
   "metadata": {
    "id": "1cs6bY454eOp"
   },
   "outputs": [],
   "source": []
  },
  {
   "cell_type": "markdown",
   "metadata": {
    "id": "OFnUvXAZ4eOp"
   },
   "source": [
    "get ohio and utah rows and \"one\",\"three\"columns"
   ]
  },
  {
   "cell_type": "code",
   "execution_count": null,
   "metadata": {
    "id": "MeO7amnL4eOp"
   },
   "outputs": [],
   "source": []
  },
  {
   "cell_type": "markdown",
   "metadata": {
    "id": "a1e_t_qZ4eOp"
   },
   "source": [
    "get the first two rows"
   ]
  },
  {
   "cell_type": "code",
   "execution_count": null,
   "metadata": {
    "id": "te5Etu4I4eOp"
   },
   "outputs": [],
   "source": []
  },
  {
   "cell_type": "markdown",
   "metadata": {
    "id": "m_LB8qHj4eOp"
   },
   "source": [
    "get the last two columns"
   ]
  },
  {
   "cell_type": "code",
   "execution_count": null,
   "metadata": {
    "id": "VoBYapR74eOq"
   },
   "outputs": [],
   "source": []
  },
  {
   "cell_type": "markdown",
   "metadata": {
    "id": "EDxDZUwD4eOq"
   },
   "source": [
    "get first two rows and last two columns"
   ]
  },
  {
   "cell_type": "code",
   "execution_count": null,
   "metadata": {
    "id": "gr93EAEL4eOq"
   },
   "outputs": [],
   "source": []
  },
  {
   "cell_type": "markdown",
   "metadata": {
    "id": "Kx8S_7pT4eOq"
   },
   "source": [
    "# Function Application and Mapping"
   ]
  },
  {
   "cell_type": "markdown",
   "metadata": {
    "id": "QWodI82E4eOq"
   },
   "source": [
    "frame.apply(): Applying a function on one-dimensional arrays to each column or row"
   ]
  },
  {
   "cell_type": "code",
   "execution_count": null,
   "metadata": {
    "id": "qNyfs5X74eOq"
   },
   "outputs": [],
   "source": [
    "frame = pd.DataFrame(np.random.randn(4, 3), columns=list('bde'),\n",
    "                         index=['Utah', 'Ohio', 'Texas', 'Oregon'])"
   ]
  },
  {
   "cell_type": "code",
   "execution_count": null,
   "metadata": {
    "id": "s480FdXS4eOq"
   },
   "outputs": [],
   "source": [
    "frame"
   ]
  },
  {
   "cell_type": "code",
   "execution_count": null,
   "metadata": {
    "id": "wbHRPPKZ4eOq"
   },
   "outputs": [],
   "source": [
    "f = lambda x: x.max() - x.min()"
   ]
  },
  {
   "cell_type": "code",
   "execution_count": null,
   "metadata": {
    "id": "VYA-QJTz4eOr"
   },
   "outputs": [],
   "source": [
    "frame.apply(f)"
   ]
  },
  {
   "cell_type": "code",
   "execution_count": null,
   "metadata": {
    "id": "lVwVO8MN4eOr"
   },
   "outputs": [],
   "source": [
    "frame.apply(lambda x: x.max() - x.min())"
   ]
  },
  {
   "cell_type": "code",
   "execution_count": null,
   "metadata": {
    "id": "i3Dm1hdM4eOr"
   },
   "outputs": [],
   "source": [
    "frame.apply(f,axis=\"columns\")"
   ]
  },
  {
   "cell_type": "code",
   "execution_count": null,
   "metadata": {
    "id": "clpcLxBo4eOr"
   },
   "outputs": [],
   "source": [
    "frame.apply(f,axis=1)"
   ]
  },
  {
   "cell_type": "markdown",
   "metadata": {
    "id": "MAYgfeNv4eOr"
   },
   "source": [
    "### The function passed to apply need not return a scalar value; it can also return a Series with multiple values:"
   ]
  },
  {
   "cell_type": "code",
   "execution_count": null,
   "metadata": {
    "id": "OfTyGBFf4eOr"
   },
   "outputs": [],
   "source": [
    "def f(x):\n",
    "    return pd.Series([x.min(), x.max()], index=['min', 'max'])"
   ]
  },
  {
   "cell_type": "code",
   "execution_count": null,
   "metadata": {
    "id": "7sbmuxU54eOs"
   },
   "outputs": [],
   "source": [
    "frame.apply(f)"
   ]
  },
  {
   "cell_type": "markdown",
   "metadata": {
    "id": "_BeDoWbq4eOs"
   },
   "source": [
    "## to apply on all the elements use applymap() function"
   ]
  },
  {
   "cell_type": "code",
   "execution_count": null,
   "metadata": {
    "id": "8lJ2OHA84eOs"
   },
   "outputs": [],
   "source": [
    "myfunct=lambda x: x**2"
   ]
  },
  {
   "cell_type": "code",
   "execution_count": null,
   "metadata": {
    "id": "rw8vS-954eOs"
   },
   "outputs": [],
   "source": [
    "frame.applymap(myfunct)"
   ]
  },
  {
   "cell_type": "markdown",
   "metadata": {
    "id": "__l_GXr94eOs"
   },
   "source": [
    "## To apply element-wise on series use map() function "
   ]
  },
  {
   "cell_type": "code",
   "execution_count": null,
   "metadata": {
    "id": "ABWUS7F34eOs"
   },
   "outputs": [],
   "source": [
    " frame['e'].map(myfunct)"
   ]
  },
  {
   "cell_type": "markdown",
   "metadata": {
    "id": "sruCga8k4eOt"
   },
   "source": [
    "# Sorting"
   ]
  },
  {
   "cell_type": "markdown",
   "metadata": {
    "id": "dDjjBRVG4eOt"
   },
   "source": [
    "## Sorting index "
   ]
  },
  {
   "cell_type": "code",
   "execution_count": null,
   "metadata": {
    "id": "MZzHbeua4eOt"
   },
   "outputs": [],
   "source": [
    "obj = pd.Series(range(4), index=['d', 'a', 'b', 'c'])"
   ]
  },
  {
   "cell_type": "code",
   "execution_count": null,
   "metadata": {
    "id": "ThGJEAMJ4eOt"
   },
   "outputs": [],
   "source": [
    "obj"
   ]
  },
  {
   "cell_type": "code",
   "execution_count": null,
   "metadata": {
    "id": "d8eMMzhn4eOt"
   },
   "outputs": [],
   "source": [
    "obj.sort_index()"
   ]
  },
  {
   "cell_type": "markdown",
   "metadata": {
    "id": "ZBoscJFJ4eOt"
   },
   "source": [
    "Try sortin index with mixed data type string and integers"
   ]
  },
  {
   "cell_type": "code",
   "execution_count": null,
   "metadata": {
    "id": "kF7UKIdg4eOt"
   },
   "outputs": [],
   "source": [
    "obj = pd.Series(range(8), index=['d', 'a', 'b', 'c',4,2,3,1])"
   ]
  },
  {
   "cell_type": "code",
   "execution_count": null,
   "metadata": {
    "id": "qqWKYfOu4eOu"
   },
   "outputs": [],
   "source": [
    "obj"
   ]
  },
  {
   "cell_type": "code",
   "execution_count": null,
   "metadata": {
    "id": "7hOvIFjo4eOu"
   },
   "outputs": [],
   "source": [
    "obj.sort_index()"
   ]
  },
  {
   "cell_type": "code",
   "execution_count": null,
   "metadata": {
    "id": "Blb_q4pI4eOu"
   },
   "outputs": [],
   "source": [
    "frame = pd.DataFrame(np.arange(8).reshape((2, 4)),\n",
    "                            index=['three', 'one'],\n",
    "                         columns=['d', 'a', 'b', 'c'])"
   ]
  },
  {
   "cell_type": "code",
   "execution_count": null,
   "metadata": {
    "id": "6D7NKcrf4eOu"
   },
   "outputs": [],
   "source": [
    "frame"
   ]
  },
  {
   "cell_type": "code",
   "execution_count": null,
   "metadata": {
    "id": "KVEGeFvA4eOv"
   },
   "outputs": [],
   "source": [
    "frame.sort_index()"
   ]
  },
  {
   "cell_type": "code",
   "execution_count": null,
   "metadata": {
    "id": "dr6LF0L54eOv"
   },
   "outputs": [],
   "source": [
    "frame.sort_index(axis=1)"
   ]
  },
  {
   "cell_type": "code",
   "execution_count": null,
   "metadata": {
    "id": "nfo3VRor4eOv"
   },
   "outputs": [],
   "source": [
    "frame"
   ]
  },
  {
   "cell_type": "markdown",
   "metadata": {
    "id": "RWp2UFrF4eOv"
   },
   "source": [
    "by default it is not a inplace operation, to make it inplace inplace=True"
   ]
  },
  {
   "cell_type": "code",
   "execution_count": null,
   "metadata": {
    "id": "dlOqWrm34eOv"
   },
   "outputs": [],
   "source": [
    "frame.sort_index(axis=1,inplace=True)"
   ]
  },
  {
   "cell_type": "code",
   "execution_count": null,
   "metadata": {
    "id": "nVPj53IG4eOv"
   },
   "outputs": [],
   "source": [
    "frame"
   ]
  },
  {
   "cell_type": "markdown",
   "metadata": {
    "id": "KCn-ZRIu4eOv"
   },
   "source": [
    "## Sorting by values "
   ]
  },
  {
   "cell_type": "code",
   "execution_count": null,
   "metadata": {
    "id": "ptwBaPYb4eOv"
   },
   "outputs": [],
   "source": [
    "frame = pd.DataFrame({'b': [4, 7, -3, 2], 'a': [0, 1, 0, 1]})"
   ]
  },
  {
   "cell_type": "code",
   "execution_count": null,
   "metadata": {
    "id": "5Vl5Zf6L4eOw"
   },
   "outputs": [],
   "source": [
    "frame"
   ]
  },
  {
   "cell_type": "code",
   "execution_count": null,
   "metadata": {
    "id": "KaO9IKnn4eOw"
   },
   "outputs": [],
   "source": [
    "frame.sort_values(by=\"a\")"
   ]
  },
  {
   "cell_type": "markdown",
   "metadata": {
    "id": "KSW4E1X64eOw"
   },
   "source": [
    "To sort by multiple columns, pass a list of names:"
   ]
  },
  {
   "cell_type": "code",
   "execution_count": null,
   "metadata": {
    "id": "6Al2pdkT4eOw"
   },
   "outputs": [],
   "source": [
    "frame.sort_values(by=['a', 'b'])"
   ]
  },
  {
   "cell_type": "markdown",
   "metadata": {
    "id": "8HappBnM4eOw"
   },
   "source": [
    "## Axis Indexes with Duplicate Labels"
   ]
  },
  {
   "cell_type": "code",
   "execution_count": null,
   "metadata": {
    "id": "Zf8jnrsQ4eOw"
   },
   "outputs": [],
   "source": [
    "obj = pd.Series(range(5), index=['a', 'a', 'b', 'b', 'c'])"
   ]
  },
  {
   "cell_type": "code",
   "execution_count": null,
   "metadata": {
    "id": "l7CXHAKH4eOw"
   },
   "outputs": [],
   "source": [
    "obj"
   ]
  },
  {
   "cell_type": "markdown",
   "metadata": {
    "id": "fTL3Sw_94eOx"
   },
   "source": [
    "The index’s is_unique property can tell you whether its labels are unique or not:"
   ]
  },
  {
   "cell_type": "code",
   "execution_count": null,
   "metadata": {
    "id": "DbaRsB7_4eOx"
   },
   "outputs": [],
   "source": [
    "obj.index.is_unique"
   ]
  },
  {
   "cell_type": "markdown",
   "metadata": {
    "id": "THkAZnsa4eOx"
   },
   "source": [
    "Indexing a label with multiple entries returns a Series, while single entries return a scalar value:"
   ]
  },
  {
   "cell_type": "code",
   "execution_count": null,
   "metadata": {
    "id": "U1Y9Hx9V4eOx"
   },
   "outputs": [],
   "source": [
    "obj['a']"
   ]
  },
  {
   "cell_type": "code",
   "execution_count": null,
   "metadata": {
    "id": "0kyCvBFb4eOy"
   },
   "outputs": [],
   "source": [
    "obj['c']"
   ]
  },
  {
   "cell_type": "markdown",
   "metadata": {
    "id": "C7CqiTUq4eOy"
   },
   "source": [
    "This can make your code more complicated, as the output type from indexing can\n",
    "vary based on whether a label is repeated or not."
   ]
  },
  {
   "cell_type": "code",
   "execution_count": null,
   "metadata": {
    "id": "WTK35mJc4eOy"
   },
   "outputs": [],
   "source": [
    "df = pd.DataFrame(np.random.randn(4, 3), index=['a', 'a', 'b', 'b'])"
   ]
  },
  {
   "cell_type": "code",
   "execution_count": null,
   "metadata": {
    "id": "tfvqVGjw4eOy"
   },
   "outputs": [],
   "source": [
    "df"
   ]
  },
  {
   "cell_type": "code",
   "execution_count": null,
   "metadata": {
    "id": "uhTAS37p4eOy"
   },
   "outputs": [],
   "source": [
    "df.loc['b']"
   ]
  },
  {
   "cell_type": "markdown",
   "metadata": {
    "id": "ByjZ355J4eOy"
   },
   "source": [
    "# Descriptive Statistics"
   ]
  },
  {
   "cell_type": "code",
   "execution_count": null,
   "metadata": {
    "id": "FrYu6Lp94eOy"
   },
   "outputs": [],
   "source": [
    "df = pd.DataFrame([[2.0, np.nan], [7, -4], [np.nan, np.nan], [1, -2]],\n",
    "index=['a', 'b', 'c', 'd'],columns=['one', 'two'])"
   ]
  },
  {
   "cell_type": "code",
   "execution_count": null,
   "metadata": {
    "id": "mgQ1f9gl4eOy"
   },
   "outputs": [],
   "source": [
    "df"
   ]
  },
  {
   "cell_type": "markdown",
   "metadata": {
    "id": "P0WcswWR4eOz"
   },
   "source": [
    "Calling DataFrame’s sum method returns a Series containing column sums:"
   ]
  },
  {
   "cell_type": "code",
   "execution_count": null,
   "metadata": {
    "id": "LZ-6geZh4eOz"
   },
   "outputs": [],
   "source": [
    "df.sum()"
   ]
  },
  {
   "cell_type": "markdown",
   "metadata": {
    "id": "3QD8R1Qd4eOz"
   },
   "source": [
    "Passing axis='columns' or axis=1 sums across the columns instead:"
   ]
  },
  {
   "cell_type": "code",
   "execution_count": null,
   "metadata": {
    "id": "SRdjsCqI4eOz"
   },
   "outputs": [],
   "source": [
    "df.sum(axis=1)"
   ]
  },
  {
   "cell_type": "markdown",
   "metadata": {
    "id": "krGqPObk4eOz"
   },
   "source": [
    "NA values are excluded unless the entire slice (row or column in this case) is NA. \n",
    "<br> This can be disabled with the skipna option:"
   ]
  },
  {
   "cell_type": "code",
   "execution_count": null,
   "metadata": {
    "id": "DlO4k4oB4eOz"
   },
   "outputs": [],
   "source": [
    " df.mean(axis='columns', skipna=False)"
   ]
  },
  {
   "cell_type": "markdown",
   "metadata": {
    "id": "q4ua6eoS4eOz"
   },
   "source": [
    "producing multiple summary statistics in one shot:"
   ]
  },
  {
   "cell_type": "code",
   "execution_count": null,
   "metadata": {
    "id": "U5EWhNII4eO0"
   },
   "outputs": [],
   "source": [
    "df.describe()"
   ]
  },
  {
   "cell_type": "markdown",
   "metadata": {
    "id": "uKUE1wIH4eO0"
   },
   "source": [
    "### Descriptive and summary statistics"
   ]
  },
  {
   "cell_type": "markdown",
   "metadata": {
    "id": "wnaNYuU34eO0"
   },
   "source": [
    "<div>\n",
    "<img src=\"attachment:Screen%20Shot%202018-11-11%20at%2021.27.48.png\" width=\"600\" height=\"450\" >\n",
    "<div>"
   ]
  },
  {
   "cell_type": "markdown",
   "metadata": {
    "id": "3rAJrSuS4eO0"
   },
   "source": [
    "Example for pct_change:"
   ]
  },
  {
   "cell_type": "code",
   "execution_count": null,
   "metadata": {
    "id": "azU-i0YN4eO0"
   },
   "outputs": [],
   "source": [
    "df = pd.DataFrame({\n",
    "  'FR': [4.0405, 4.0963, 4.3149],\n",
    "   'GR': [1.7246, 1.7482, 1.8519],\n",
    "    'IT': [804.74, 810.01, 860.13]},\n",
    "   index=['1980-01-01', '1980-02-01', '1980-03-01'])"
   ]
  },
  {
   "cell_type": "code",
   "execution_count": null,
   "metadata": {
    "id": "zYjLN71s4eO0"
   },
   "outputs": [],
   "source": [
    "df"
   ]
  },
  {
   "cell_type": "code",
   "execution_count": null,
   "metadata": {
    "id": "boyCBBhc4eO1"
   },
   "outputs": [],
   "source": [
    "df.pct_change()"
   ]
  },
  {
   "cell_type": "markdown",
   "metadata": {
    "id": "d6SQgOpM4eO1"
   },
   "source": [
    "Periods to shift for forming percent change."
   ]
  },
  {
   "cell_type": "code",
   "execution_count": null,
   "metadata": {
    "id": "1mT0NQ7Y4eO1"
   },
   "outputs": [],
   "source": [
    "df.pct_change(periods=2)"
   ]
  },
  {
   "cell_type": "code",
   "execution_count": null,
   "metadata": {
    "id": "GxogQ6_z4eO1"
   },
   "outputs": [],
   "source": [
    "np.random.seed(1)\n",
    "df=pd.DataFrame(np.random.randint(5,10,(4,4)),index=list(\"abcd\"),columns=list(\"xyzt\"));df"
   ]
  },
  {
   "cell_type": "code",
   "execution_count": null,
   "metadata": {
    "id": "gOMKOgBQ4eO1"
   },
   "outputs": [],
   "source": [
    "df.diff()"
   ]
  },
  {
   "cell_type": "code",
   "execution_count": null,
   "metadata": {
    "id": "N1aofdTi4eO1"
   },
   "outputs": [],
   "source": [
    "df.diff(axis=\"columns\")"
   ]
  },
  {
   "cell_type": "markdown",
   "metadata": {
    "id": "RciTxv284eO2"
   },
   "source": [
    "# Unique Values, Value Counts, and Membership"
   ]
  },
  {
   "cell_type": "code",
   "execution_count": null,
   "metadata": {
    "id": "JfTc2lO-4eO2"
   },
   "outputs": [],
   "source": [
    "obj = pd.Series(['c', 'a', 'd', 'a', 'a', 'b', 'b', 'c', 'c']);obj"
   ]
  },
  {
   "cell_type": "code",
   "execution_count": null,
   "metadata": {
    "id": "ntWgZhk74eO2"
   },
   "outputs": [],
   "source": [
    "uniques = obj.unique()"
   ]
  },
  {
   "cell_type": "code",
   "execution_count": null,
   "metadata": {
    "id": "hZ5Q4djv4eO2"
   },
   "outputs": [],
   "source": [
    "uniques"
   ]
  },
  {
   "cell_type": "code",
   "execution_count": null,
   "metadata": {
    "id": "VT2jkow-4eO2"
   },
   "outputs": [],
   "source": [
    "obj.value_counts()"
   ]
  },
  {
   "cell_type": "markdown",
   "metadata": {
    "id": "Rhh61QKr4eO3"
   },
   "source": [
    "isin performs a vectorized set membership check and can be useful in filtering a dataset down to a subset of values in a Series or column in a DataFrame"
   ]
  },
  {
   "cell_type": "code",
   "execution_count": null,
   "metadata": {
    "id": "iuSDUNcU4ePD"
   },
   "outputs": [],
   "source": [
    "mask = obj.isin(['b', 'c'])"
   ]
  },
  {
   "cell_type": "code",
   "execution_count": null,
   "metadata": {
    "id": "-kbsGFsN4ePD"
   },
   "outputs": [],
   "source": [
    "mask"
   ]
  },
  {
   "cell_type": "code",
   "execution_count": null,
   "metadata": {
    "id": "kIVM6rs44ePD"
   },
   "outputs": [],
   "source": [
    "obj[mask]"
   ]
  }
 ],
 "metadata": {
  "colab": {
   "name": "pandas-lecture-part1.ipynb",
   "provenance": []
  },
  "kernelspec": {
   "display_name": "Python 3",
   "language": "python",
   "name": "python3"
  },
  "language_info": {
   "codemirror_mode": {
    "name": "ipython",
    "version": 3
   },
   "file_extension": ".py",
   "mimetype": "text/x-python",
   "name": "python",
   "nbconvert_exporter": "python",
   "pygments_lexer": "ipython3",
   "version": "3.8.5"
  }
 },
 "nbformat": 4,
 "nbformat_minor": 1
}
