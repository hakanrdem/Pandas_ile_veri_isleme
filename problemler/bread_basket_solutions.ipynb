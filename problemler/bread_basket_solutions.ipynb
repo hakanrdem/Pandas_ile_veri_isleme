{
 "cells": [
  {
   "cell_type": "code",
   "execution_count": 1,
   "metadata": {},
   "outputs": [],
   "source": [
    "import pandas as pd"
   ]
  },
  {
   "cell_type": "code",
   "execution_count": 2,
   "metadata": {},
   "outputs": [],
   "source": [
    "data=pd.read_csv(\"BreadBasket_DMS.csv\")"
   ]
  },
  {
   "cell_type": "code",
   "execution_count": 3,
   "metadata": {},
   "outputs": [
    {
     "data": {
      "text/html": [
       "<div>\n",
       "<style scoped>\n",
       "    .dataframe tbody tr th:only-of-type {\n",
       "        vertical-align: middle;\n",
       "    }\n",
       "\n",
       "    .dataframe tbody tr th {\n",
       "        vertical-align: top;\n",
       "    }\n",
       "\n",
       "    .dataframe thead th {\n",
       "        text-align: right;\n",
       "    }\n",
       "</style>\n",
       "<table border=\"1\" class=\"dataframe\">\n",
       "  <thead>\n",
       "    <tr style=\"text-align: right;\">\n",
       "      <th></th>\n",
       "      <th>Date</th>\n",
       "      <th>Time</th>\n",
       "      <th>Transaction</th>\n",
       "      <th>Item</th>\n",
       "    </tr>\n",
       "  </thead>\n",
       "  <tbody>\n",
       "    <tr>\n",
       "      <th>0</th>\n",
       "      <td>2016-10-30</td>\n",
       "      <td>09:58:11</td>\n",
       "      <td>1</td>\n",
       "      <td>Bread</td>\n",
       "    </tr>\n",
       "    <tr>\n",
       "      <th>1</th>\n",
       "      <td>2016-10-30</td>\n",
       "      <td>10:05:34</td>\n",
       "      <td>2</td>\n",
       "      <td>Scandinavian</td>\n",
       "    </tr>\n",
       "    <tr>\n",
       "      <th>2</th>\n",
       "      <td>2016-10-30</td>\n",
       "      <td>10:05:34</td>\n",
       "      <td>2</td>\n",
       "      <td>Scandinavian</td>\n",
       "    </tr>\n",
       "    <tr>\n",
       "      <th>3</th>\n",
       "      <td>2016-10-30</td>\n",
       "      <td>10:07:57</td>\n",
       "      <td>3</td>\n",
       "      <td>Hot chocolate</td>\n",
       "    </tr>\n",
       "    <tr>\n",
       "      <th>4</th>\n",
       "      <td>2016-10-30</td>\n",
       "      <td>10:07:57</td>\n",
       "      <td>3</td>\n",
       "      <td>Jam</td>\n",
       "    </tr>\n",
       "  </tbody>\n",
       "</table>\n",
       "</div>"
      ],
      "text/plain": [
       "         Date      Time  Transaction           Item\n",
       "0  2016-10-30  09:58:11            1          Bread\n",
       "1  2016-10-30  10:05:34            2   Scandinavian\n",
       "2  2016-10-30  10:05:34            2   Scandinavian\n",
       "3  2016-10-30  10:07:57            3  Hot chocolate\n",
       "4  2016-10-30  10:07:57            3            Jam"
      ]
     },
     "execution_count": 3,
     "metadata": {},
     "output_type": "execute_result"
    }
   ],
   "source": [
    "data.head()"
   ]
  },
  {
   "cell_type": "code",
   "execution_count": 13,
   "metadata": {},
   "outputs": [
    {
     "data": {
      "text/plain": [
       "4528"
      ]
     },
     "execution_count": 13,
     "metadata": {},
     "output_type": "execute_result"
    }
   ],
   "source": [
    "data.query(\"Item=='coffee'\").Transaction.nunique()"
   ]
  },
  {
   "cell_type": "code",
   "execution_count": 19,
   "metadata": {},
   "outputs": [
    {
     "data": {
      "text/plain": [
       "4528"
      ]
     },
     "execution_count": 19,
     "metadata": {},
     "output_type": "execute_result"
    }
   ],
   "source": [
    "data.query(\"Item=='coffee'\").drop_duplicates(\"Transaction\").shape[0]"
   ]
  },
  {
   "cell_type": "code",
   "execution_count": 22,
   "metadata": {
    "scrolled": true
   },
   "outputs": [
    {
     "data": {
      "text/html": [
       "<div>\n",
       "<style scoped>\n",
       "    .dataframe tbody tr th:only-of-type {\n",
       "        vertical-align: middle;\n",
       "    }\n",
       "\n",
       "    .dataframe tbody tr th {\n",
       "        vertical-align: top;\n",
       "    }\n",
       "\n",
       "    .dataframe thead th {\n",
       "        text-align: right;\n",
       "    }\n",
       "</style>\n",
       "<table border=\"1\" class=\"dataframe\">\n",
       "  <thead>\n",
       "    <tr style=\"text-align: right;\">\n",
       "      <th></th>\n",
       "      <th>Date</th>\n",
       "      <th>Time</th>\n",
       "      <th>Transaction</th>\n",
       "      <th>Item</th>\n",
       "    </tr>\n",
       "  </thead>\n",
       "  <tbody>\n",
       "    <tr>\n",
       "      <th>0</th>\n",
       "      <td>2016-10-30</td>\n",
       "      <td>09:58:11</td>\n",
       "      <td>1</td>\n",
       "      <td>bread</td>\n",
       "    </tr>\n",
       "    <tr>\n",
       "      <th>1</th>\n",
       "      <td>2016-10-30</td>\n",
       "      <td>10:05:34</td>\n",
       "      <td>2</td>\n",
       "      <td>scandinavian</td>\n",
       "    </tr>\n",
       "    <tr>\n",
       "      <th>2</th>\n",
       "      <td>2016-10-30</td>\n",
       "      <td>10:05:34</td>\n",
       "      <td>2</td>\n",
       "      <td>scandinavian</td>\n",
       "    </tr>\n",
       "    <tr>\n",
       "      <th>3</th>\n",
       "      <td>2016-10-30</td>\n",
       "      <td>10:07:57</td>\n",
       "      <td>3</td>\n",
       "      <td>hot chocolate</td>\n",
       "    </tr>\n",
       "    <tr>\n",
       "      <th>4</th>\n",
       "      <td>2016-10-30</td>\n",
       "      <td>10:07:57</td>\n",
       "      <td>3</td>\n",
       "      <td>jam</td>\n",
       "    </tr>\n",
       "    <tr>\n",
       "      <th>5</th>\n",
       "      <td>2016-10-30</td>\n",
       "      <td>10:07:57</td>\n",
       "      <td>3</td>\n",
       "      <td>cookies</td>\n",
       "    </tr>\n",
       "    <tr>\n",
       "      <th>6</th>\n",
       "      <td>2016-10-30</td>\n",
       "      <td>10:08:41</td>\n",
       "      <td>4</td>\n",
       "      <td>muffin</td>\n",
       "    </tr>\n",
       "    <tr>\n",
       "      <th>7</th>\n",
       "      <td>2016-10-30</td>\n",
       "      <td>10:13:03</td>\n",
       "      <td>5</td>\n",
       "      <td>coffee</td>\n",
       "    </tr>\n",
       "    <tr>\n",
       "      <th>8</th>\n",
       "      <td>2016-10-30</td>\n",
       "      <td>10:13:03</td>\n",
       "      <td>5</td>\n",
       "      <td>pastry</td>\n",
       "    </tr>\n",
       "    <tr>\n",
       "      <th>9</th>\n",
       "      <td>2016-10-30</td>\n",
       "      <td>10:13:03</td>\n",
       "      <td>5</td>\n",
       "      <td>bread</td>\n",
       "    </tr>\n",
       "  </tbody>\n",
       "</table>\n",
       "</div>"
      ],
      "text/plain": [
       "         Date      Time  Transaction           Item\n",
       "0  2016-10-30  09:58:11            1          bread\n",
       "1  2016-10-30  10:05:34            2   scandinavian\n",
       "2  2016-10-30  10:05:34            2   scandinavian\n",
       "3  2016-10-30  10:07:57            3  hot chocolate\n",
       "4  2016-10-30  10:07:57            3            jam\n",
       "5  2016-10-30  10:07:57            3        cookies\n",
       "6  2016-10-30  10:08:41            4         muffin\n",
       "7  2016-10-30  10:13:03            5         coffee\n",
       "8  2016-10-30  10:13:03            5         pastry\n",
       "9  2016-10-30  10:13:03            5          bread"
      ]
     },
     "execution_count": 22,
     "metadata": {},
     "output_type": "execute_result"
    }
   ],
   "source": [
    "data.head(10)"
   ]
  },
  {
   "cell_type": "code",
   "execution_count": 28,
   "metadata": {},
   "outputs": [
    {
     "data": {
      "text/plain": [
       "<matplotlib.axes._subplots.AxesSubplot at 0x10fecffd0>"
      ]
     },
     "execution_count": 28,
     "metadata": {},
     "output_type": "execute_result"
    },
    {
     "data": {
      "image/png": "[encoded data removed]",
      "text/plain": [
       "<Figure size 432x288 with 1 Axes>"
      ]
     },
     "metadata": {
      "needs_background": "light"
     },
     "output_type": "display_data"
    }
   ],
   "source": [
    "data.groupby(\"Transaction\").size().plot.hist(bins=12)"
   ]
  },
  {
   "cell_type": "code",
   "execution_count": 23,
   "metadata": {},
   "outputs": [
    {
     "data": {
      "text/plain": [
       "6474"
      ]
     },
     "execution_count": 23,
     "metadata": {},
     "output_type": "execute_result"
    }
   ],
   "source": [
    "data.groupby(\"Transaction\").size().idxmax()"
   ]
  },
  {
   "cell_type": "code",
   "execution_count": 25,
   "metadata": {},
   "outputs": [
    {
     "data": {
      "text/plain": [
       "12"
      ]
     },
     "execution_count": 25,
     "metadata": {},
     "output_type": "execute_result"
    }
   ],
   "source": [
    "data.groupby(\"Transaction\").size().max()"
   ]
  },
  {
   "cell_type": "code",
   "execution_count": 5,
   "metadata": {},
   "outputs": [],
   "source": [
    "data.Item=data.Item.str.lower()"
   ]
  },
  {
   "cell_type": "code",
   "execution_count": 7,
   "metadata": {},
   "outputs": [
    {
     "data": {
      "text/plain": [
       "95"
      ]
     },
     "execution_count": 7,
     "metadata": {},
     "output_type": "execute_result"
    }
   ],
   "source": [
    "data.Item.nunique()"
   ]
  },
  {
   "cell_type": "code",
   "execution_count": 10,
   "metadata": {
    "scrolled": true
   },
   "outputs": [
    {
     "data": {
      "text/plain": [
       "coffee           5471\n",
       "bread            3325\n",
       "tea              1435\n",
       "cake             1025\n",
       "pastry            856\n",
       "none              786\n",
       "sandwich          771\n",
       "medialuna         616\n",
       "hot chocolate     590\n",
       "cookies           540\n",
       "Name: Item, dtype: int64"
      ]
     },
     "execution_count": 10,
     "metadata": {},
     "output_type": "execute_result"
    }
   ],
   "source": [
    "data.Item.value_counts()[:10]"
   ]
  },
  {
   "cell_type": "code",
   "execution_count": 30,
   "metadata": {},
   "outputs": [
    {
     "data": {
      "text/plain": [
       "'12'"
      ]
     },
     "execution_count": 30,
     "metadata": {},
     "output_type": "execute_result"
    }
   ],
   "source": [
    "\"1\"+\"2\""
   ]
  },
  {
   "cell_type": "code",
   "execution_count": 39,
   "metadata": {},
   "outputs": [],
   "source": [
    "data.drop(labels=[\"date-time\"],axis=1,inplace=True)"
   ]
  },
  {
   "cell_type": "code",
   "execution_count": 44,
   "metadata": {},
   "outputs": [
    {
     "data": {
      "text/html": [
       "<div>\n",
       "<style scoped>\n",
       "    .dataframe tbody tr th:only-of-type {\n",
       "        vertical-align: middle;\n",
       "    }\n",
       "\n",
       "    .dataframe tbody tr th {\n",
       "        vertical-align: top;\n",
       "    }\n",
       "\n",
       "    .dataframe thead th {\n",
       "        text-align: right;\n",
       "    }\n",
       "</style>\n",
       "<table border=\"1\" class=\"dataframe\">\n",
       "  <thead>\n",
       "    <tr style=\"text-align: right;\">\n",
       "      <th></th>\n",
       "      <th>Date</th>\n",
       "      <th>Time</th>\n",
       "      <th>Transaction</th>\n",
       "      <th>Item</th>\n",
       "      <th>date_time</th>\n",
       "    </tr>\n",
       "  </thead>\n",
       "  <tbody>\n",
       "    <tr>\n",
       "      <th>21288</th>\n",
       "      <td>2017-04-09</td>\n",
       "      <td>14:32:58</td>\n",
       "      <td>9682</td>\n",
       "      <td>coffee</td>\n",
       "      <td>2017-04-09 14:32:58</td>\n",
       "    </tr>\n",
       "    <tr>\n",
       "      <th>21289</th>\n",
       "      <td>2017-04-09</td>\n",
       "      <td>14:32:58</td>\n",
       "      <td>9682</td>\n",
       "      <td>tea</td>\n",
       "      <td>2017-04-09 14:32:58</td>\n",
       "    </tr>\n",
       "    <tr>\n",
       "      <th>21290</th>\n",
       "      <td>2017-04-09</td>\n",
       "      <td>14:57:06</td>\n",
       "      <td>9683</td>\n",
       "      <td>coffee</td>\n",
       "      <td>2017-04-09 14:57:06</td>\n",
       "    </tr>\n",
       "    <tr>\n",
       "      <th>21291</th>\n",
       "      <td>2017-04-09</td>\n",
       "      <td>14:57:06</td>\n",
       "      <td>9683</td>\n",
       "      <td>pastry</td>\n",
       "      <td>2017-04-09 14:57:06</td>\n",
       "    </tr>\n",
       "    <tr>\n",
       "      <th>21292</th>\n",
       "      <td>2017-04-09</td>\n",
       "      <td>15:04:24</td>\n",
       "      <td>9684</td>\n",
       "      <td>smoothies</td>\n",
       "      <td>2017-04-09 15:04:24</td>\n",
       "    </tr>\n",
       "  </tbody>\n",
       "</table>\n",
       "</div>"
      ],
      "text/plain": [
       "             Date      Time  Transaction       Item           date_time\n",
       "21288  2017-04-09  14:32:58         9682     coffee 2017-04-09 14:32:58\n",
       "21289  2017-04-09  14:32:58         9682        tea 2017-04-09 14:32:58\n",
       "21290  2017-04-09  14:57:06         9683     coffee 2017-04-09 14:57:06\n",
       "21291  2017-04-09  14:57:06         9683     pastry 2017-04-09 14:57:06\n",
       "21292  2017-04-09  15:04:24         9684  smoothies 2017-04-09 15:04:24"
      ]
     },
     "execution_count": 44,
     "metadata": {},
     "output_type": "execute_result"
    }
   ],
   "source": [
    "data.tail()"
   ]
  },
  {
   "cell_type": "code",
   "execution_count": 36,
   "metadata": {},
   "outputs": [],
   "source": [
    "data[\"date_time\"]=data.Date+\" \"+data.Time"
   ]
  },
  {
   "cell_type": "code",
   "execution_count": 43,
   "metadata": {},
   "outputs": [],
   "source": [
    "data.date_time=pd.to_datetime(data[\"date_time\"])"
   ]
  },
  {
   "cell_type": "code",
   "execution_count": 45,
   "metadata": {},
   "outputs": [
    {
     "data": {
      "text/plain": [
       "0       2016-10-30 09:58:11\n",
       "1       2016-10-30 10:05:34\n",
       "2       2016-10-30 10:05:34\n",
       "3       2016-10-30 10:07:57\n",
       "4       2016-10-30 10:07:57\n",
       "                ...        \n",
       "21288   2017-04-09 14:32:58\n",
       "21289   2017-04-09 14:32:58\n",
       "21290   2017-04-09 14:57:06\n",
       "21291   2017-04-09 14:57:06\n",
       "21292   2017-04-09 15:04:24\n",
       "Name: date_time, Length: 21293, dtype: datetime64[ns]"
      ]
     },
     "execution_count": 45,
     "metadata": {},
     "output_type": "execute_result"
    }
   ],
   "source": [
    "data.date_time"
   ]
  },
  {
   "cell_type": "code",
   "execution_count": 47,
   "metadata": {},
   "outputs": [],
   "source": [
    "data_tea=data.query(\"Item=='coffee' or Item=='tea'\")"
   ]
  },
  {
   "cell_type": "code",
   "execution_count": 48,
   "metadata": {},
   "outputs": [
    {
     "data": {
      "text/html": [
       "<div>\n",
       "<style scoped>\n",
       "    .dataframe tbody tr th:only-of-type {\n",
       "        vertical-align: middle;\n",
       "    }\n",
       "\n",
       "    .dataframe tbody tr th {\n",
       "        vertical-align: top;\n",
       "    }\n",
       "\n",
       "    .dataframe thead th {\n",
       "        text-align: right;\n",
       "    }\n",
       "</style>\n",
       "<table border=\"1\" class=\"dataframe\">\n",
       "  <thead>\n",
       "    <tr style=\"text-align: right;\">\n",
       "      <th></th>\n",
       "      <th>Date</th>\n",
       "      <th>Time</th>\n",
       "      <th>Transaction</th>\n",
       "      <th>Item</th>\n",
       "      <th>date_time</th>\n",
       "    </tr>\n",
       "  </thead>\n",
       "  <tbody>\n",
       "    <tr>\n",
       "      <th>7</th>\n",
       "      <td>2016-10-30</td>\n",
       "      <td>10:13:03</td>\n",
       "      <td>5</td>\n",
       "      <td>coffee</td>\n",
       "      <td>2016-10-30 10:13:03</td>\n",
       "    </tr>\n",
       "    <tr>\n",
       "      <th>15</th>\n",
       "      <td>2016-10-30</td>\n",
       "      <td>10:19:12</td>\n",
       "      <td>7</td>\n",
       "      <td>coffee</td>\n",
       "      <td>2016-10-30 10:19:12</td>\n",
       "    </tr>\n",
       "    <tr>\n",
       "      <th>16</th>\n",
       "      <td>2016-10-30</td>\n",
       "      <td>10:19:12</td>\n",
       "      <td>7</td>\n",
       "      <td>tea</td>\n",
       "      <td>2016-10-30 10:19:12</td>\n",
       "    </tr>\n",
       "    <tr>\n",
       "      <th>28</th>\n",
       "      <td>2016-10-30</td>\n",
       "      <td>10:30:14</td>\n",
       "      <td>12</td>\n",
       "      <td>coffee</td>\n",
       "      <td>2016-10-30 10:30:14</td>\n",
       "    </tr>\n",
       "    <tr>\n",
       "      <th>31</th>\n",
       "      <td>2016-10-30</td>\n",
       "      <td>10:30:14</td>\n",
       "      <td>12</td>\n",
       "      <td>tea</td>\n",
       "      <td>2016-10-30 10:30:14</td>\n",
       "    </tr>\n",
       "  </tbody>\n",
       "</table>\n",
       "</div>"
      ],
      "text/plain": [
       "          Date      Time  Transaction    Item           date_time\n",
       "7   2016-10-30  10:13:03            5  coffee 2016-10-30 10:13:03\n",
       "15  2016-10-30  10:19:12            7  coffee 2016-10-30 10:19:12\n",
       "16  2016-10-30  10:19:12            7     tea 2016-10-30 10:19:12\n",
       "28  2016-10-30  10:30:14           12  coffee 2016-10-30 10:30:14\n",
       "31  2016-10-30  10:30:14           12     tea 2016-10-30 10:30:14"
      ]
     },
     "execution_count": 48,
     "metadata": {},
     "output_type": "execute_result"
    }
   ],
   "source": [
    "data_tea.head()"
   ]
  },
  {
   "cell_type": "code",
   "execution_count": 49,
   "metadata": {},
   "outputs": [],
   "source": [
    "data_tea.set_index(\"date_time\",inplace=True)"
   ]
  },
  {
   "cell_type": "code",
   "execution_count": 50,
   "metadata": {},
   "outputs": [
    {
     "data": {
      "text/html": [
       "<div>\n",
       "<style scoped>\n",
       "    .dataframe tbody tr th:only-of-type {\n",
       "        vertical-align: middle;\n",
       "    }\n",
       "\n",
       "    .dataframe tbody tr th {\n",
       "        vertical-align: top;\n",
       "    }\n",
       "\n",
       "    .dataframe thead th {\n",
       "        text-align: right;\n",
       "    }\n",
       "</style>\n",
       "<table border=\"1\" class=\"dataframe\">\n",
       "  <thead>\n",
       "    <tr style=\"text-align: right;\">\n",
       "      <th></th>\n",
       "      <th>Date</th>\n",
       "      <th>Time</th>\n",
       "      <th>Transaction</th>\n",
       "      <th>Item</th>\n",
       "    </tr>\n",
       "    <tr>\n",
       "      <th>date_time</th>\n",
       "      <th></th>\n",
       "      <th></th>\n",
       "      <th></th>\n",
       "      <th></th>\n",
       "    </tr>\n",
       "  </thead>\n",
       "  <tbody>\n",
       "    <tr>\n",
       "      <th>2016-10-30 10:13:03</th>\n",
       "      <td>2016-10-30</td>\n",
       "      <td>10:13:03</td>\n",
       "      <td>5</td>\n",
       "      <td>coffee</td>\n",
       "    </tr>\n",
       "    <tr>\n",
       "      <th>2016-10-30 10:19:12</th>\n",
       "      <td>2016-10-30</td>\n",
       "      <td>10:19:12</td>\n",
       "      <td>7</td>\n",
       "      <td>coffee</td>\n",
       "    </tr>\n",
       "    <tr>\n",
       "      <th>2016-10-30 10:19:12</th>\n",
       "      <td>2016-10-30</td>\n",
       "      <td>10:19:12</td>\n",
       "      <td>7</td>\n",
       "      <td>tea</td>\n",
       "    </tr>\n",
       "    <tr>\n",
       "      <th>2016-10-30 10:30:14</th>\n",
       "      <td>2016-10-30</td>\n",
       "      <td>10:30:14</td>\n",
       "      <td>12</td>\n",
       "      <td>coffee</td>\n",
       "    </tr>\n",
       "    <tr>\n",
       "      <th>2016-10-30 10:30:14</th>\n",
       "      <td>2016-10-30</td>\n",
       "      <td>10:30:14</td>\n",
       "      <td>12</td>\n",
       "      <td>tea</td>\n",
       "    </tr>\n",
       "  </tbody>\n",
       "</table>\n",
       "</div>"
      ],
      "text/plain": [
       "                           Date      Time  Transaction    Item\n",
       "date_time                                                     \n",
       "2016-10-30 10:13:03  2016-10-30  10:13:03            5  coffee\n",
       "2016-10-30 10:19:12  2016-10-30  10:19:12            7  coffee\n",
       "2016-10-30 10:19:12  2016-10-30  10:19:12            7     tea\n",
       "2016-10-30 10:30:14  2016-10-30  10:30:14           12  coffee\n",
       "2016-10-30 10:30:14  2016-10-30  10:30:14           12     tea"
      ]
     },
     "execution_count": 50,
     "metadata": {},
     "output_type": "execute_result"
    }
   ],
   "source": [
    "data_tea.head()"
   ]
  },
  {
   "cell_type": "code",
   "execution_count": 53,
   "metadata": {},
   "outputs": [
    {
     "data": {
      "text/plain": [
       "coffee    5471\n",
       "tea       1435\n",
       "Name: Item, dtype: int64"
      ]
     },
     "execution_count": 53,
     "metadata": {},
     "output_type": "execute_result"
    }
   ],
   "source": [
    "data_tea.Item.value_counts()"
   ]
  },
  {
   "cell_type": "code",
   "execution_count": 63,
   "metadata": {},
   "outputs": [],
   "source": [
    "result=data_tea.resample(\"MS\").Item.value_counts().unstack()"
   ]
  },
  {
   "cell_type": "code",
   "execution_count": 64,
   "metadata": {},
   "outputs": [
    {
     "data": {
      "text/html": [
       "<div>\n",
       "<style scoped>\n",
       "    .dataframe tbody tr th:only-of-type {\n",
       "        vertical-align: middle;\n",
       "    }\n",
       "\n",
       "    .dataframe tbody tr th {\n",
       "        vertical-align: top;\n",
       "    }\n",
       "\n",
       "    .dataframe thead th {\n",
       "        text-align: right;\n",
       "    }\n",
       "</style>\n",
       "<table border=\"1\" class=\"dataframe\">\n",
       "  <thead>\n",
       "    <tr style=\"text-align: right;\">\n",
       "      <th>Item</th>\n",
       "      <th>coffee</th>\n",
       "      <th>tea</th>\n",
       "    </tr>\n",
       "    <tr>\n",
       "      <th>date_time</th>\n",
       "      <th></th>\n",
       "      <th></th>\n",
       "    </tr>\n",
       "  </thead>\n",
       "  <tbody>\n",
       "    <tr>\n",
       "      <th>2016-10-01</th>\n",
       "      <td>93</td>\n",
       "      <td>31</td>\n",
       "    </tr>\n",
       "    <tr>\n",
       "      <th>2016-11-01</th>\n",
       "      <td>1189</td>\n",
       "      <td>311</td>\n",
       "    </tr>\n",
       "    <tr>\n",
       "      <th>2016-12-01</th>\n",
       "      <td>932</td>\n",
       "      <td>235</td>\n",
       "    </tr>\n",
       "    <tr>\n",
       "      <th>2017-01-01</th>\n",
       "      <td>892</td>\n",
       "      <td>260</td>\n",
       "    </tr>\n",
       "    <tr>\n",
       "      <th>2017-02-01</th>\n",
       "      <td>1004</td>\n",
       "      <td>267</td>\n",
       "    </tr>\n",
       "    <tr>\n",
       "      <th>2017-03-01</th>\n",
       "      <td>1071</td>\n",
       "      <td>258</td>\n",
       "    </tr>\n",
       "    <tr>\n",
       "      <th>2017-04-01</th>\n",
       "      <td>290</td>\n",
       "      <td>73</td>\n",
       "    </tr>\n",
       "  </tbody>\n",
       "</table>\n",
       "</div>"
      ],
      "text/plain": [
       "Item        coffee  tea\n",
       "date_time              \n",
       "2016-10-01      93   31\n",
       "2016-11-01    1189  311\n",
       "2016-12-01     932  235\n",
       "2017-01-01     892  260\n",
       "2017-02-01    1004  267\n",
       "2017-03-01    1071  258\n",
       "2017-04-01     290   73"
      ]
     },
     "execution_count": 64,
     "metadata": {},
     "output_type": "execute_result"
    }
   ],
   "source": [
    "result"
   ]
  },
  {
   "cell_type": "code",
   "execution_count": 74,
   "metadata": {},
   "outputs": [],
   "source": [
    "result=result.assign(toplam=result.coffee+result.tea)"
   ]
  },
  {
   "cell_type": "code",
   "execution_count": 78,
   "metadata": {},
   "outputs": [
    {
     "data": {
      "text/html": [
       "<div>\n",
       "<style scoped>\n",
       "    .dataframe tbody tr th:only-of-type {\n",
       "        vertical-align: middle;\n",
       "    }\n",
       "\n",
       "    .dataframe tbody tr th {\n",
       "        vertical-align: top;\n",
       "    }\n",
       "\n",
       "    .dataframe thead th {\n",
       "        text-align: right;\n",
       "    }\n",
       "</style>\n",
       "<table border=\"1\" class=\"dataframe\">\n",
       "  <thead>\n",
       "    <tr style=\"text-align: right;\">\n",
       "      <th></th>\n",
       "      <th>coffee</th>\n",
       "      <th>tea</th>\n",
       "      <th>toplam</th>\n",
       "      <th>0</th>\n",
       "    </tr>\n",
       "    <tr>\n",
       "      <th>date_time</th>\n",
       "      <th></th>\n",
       "      <th></th>\n",
       "      <th></th>\n",
       "      <th></th>\n",
       "    </tr>\n",
       "  </thead>\n",
       "  <tbody>\n",
       "    <tr>\n",
       "      <th>2016-10-01</th>\n",
       "      <td>93</td>\n",
       "      <td>31</td>\n",
       "      <td>124</td>\n",
       "      <td>124</td>\n",
       "    </tr>\n",
       "    <tr>\n",
       "      <th>2016-11-01</th>\n",
       "      <td>1189</td>\n",
       "      <td>311</td>\n",
       "      <td>1500</td>\n",
       "      <td>1500</td>\n",
       "    </tr>\n",
       "    <tr>\n",
       "      <th>2016-12-01</th>\n",
       "      <td>932</td>\n",
       "      <td>235</td>\n",
       "      <td>1167</td>\n",
       "      <td>1167</td>\n",
       "    </tr>\n",
       "    <tr>\n",
       "      <th>2017-01-01</th>\n",
       "      <td>892</td>\n",
       "      <td>260</td>\n",
       "      <td>1152</td>\n",
       "      <td>1152</td>\n",
       "    </tr>\n",
       "    <tr>\n",
       "      <th>2017-02-01</th>\n",
       "      <td>1004</td>\n",
       "      <td>267</td>\n",
       "      <td>1271</td>\n",
       "      <td>1271</td>\n",
       "    </tr>\n",
       "    <tr>\n",
       "      <th>2017-03-01</th>\n",
       "      <td>1071</td>\n",
       "      <td>258</td>\n",
       "      <td>1329</td>\n",
       "      <td>1329</td>\n",
       "    </tr>\n",
       "    <tr>\n",
       "      <th>2017-04-01</th>\n",
       "      <td>290</td>\n",
       "      <td>73</td>\n",
       "      <td>363</td>\n",
       "      <td>363</td>\n",
       "    </tr>\n",
       "  </tbody>\n",
       "</table>\n",
       "</div>"
      ],
      "text/plain": [
       "            coffee  tea  toplam     0\n",
       "date_time                            \n",
       "2016-10-01      93   31     124   124\n",
       "2016-11-01    1189  311    1500  1500\n",
       "2016-12-01     932  235    1167  1167\n",
       "2017-01-01     892  260    1152  1152\n",
       "2017-02-01    1004  267    1271  1271\n",
       "2017-03-01    1071  258    1329  1329\n",
       "2017-04-01     290   73     363   363"
      ]
     },
     "execution_count": 78,
     "metadata": {},
     "output_type": "execute_result"
    }
   ],
   "source": [
    "pd.concat([result,data_tea.resample(\"MS\").size()],axis=1)"
   ]
  },
  {
   "cell_type": "code",
   "execution_count": 79,
   "metadata": {},
   "outputs": [],
   "source": [
    "result[\"toplam2\"]=data_tea.resample(\"MS\").size()"
   ]
  },
  {
   "cell_type": "code",
   "execution_count": 88,
   "metadata": {},
   "outputs": [],
   "source": [
    "result.index=result.index.strftime(\"%Y-%B\")"
   ]
  },
  {
   "cell_type": "code",
   "execution_count": 89,
   "metadata": {},
   "outputs": [
    {
     "data": {
      "text/html": [
       "<div>\n",
       "<style scoped>\n",
       "    .dataframe tbody tr th:only-of-type {\n",
       "        vertical-align: middle;\n",
       "    }\n",
       "\n",
       "    .dataframe tbody tr th {\n",
       "        vertical-align: top;\n",
       "    }\n",
       "\n",
       "    .dataframe thead th {\n",
       "        text-align: right;\n",
       "    }\n",
       "</style>\n",
       "<table border=\"1\" class=\"dataframe\">\n",
       "  <thead>\n",
       "    <tr style=\"text-align: right;\">\n",
       "      <th>Item</th>\n",
       "      <th>coffee</th>\n",
       "      <th>tea</th>\n",
       "      <th>toplam</th>\n",
       "      <th>toplam2</th>\n",
       "    </tr>\n",
       "    <tr>\n",
       "      <th>date_time</th>\n",
       "      <th></th>\n",
       "      <th></th>\n",
       "      <th></th>\n",
       "      <th></th>\n",
       "    </tr>\n",
       "  </thead>\n",
       "  <tbody>\n",
       "    <tr>\n",
       "      <th>2016-October</th>\n",
       "      <td>93</td>\n",
       "      <td>31</td>\n",
       "      <td>124</td>\n",
       "      <td>124</td>\n",
       "    </tr>\n",
       "    <tr>\n",
       "      <th>2016-November</th>\n",
       "      <td>1189</td>\n",
       "      <td>311</td>\n",
       "      <td>1500</td>\n",
       "      <td>1500</td>\n",
       "    </tr>\n",
       "    <tr>\n",
       "      <th>2016-December</th>\n",
       "      <td>932</td>\n",
       "      <td>235</td>\n",
       "      <td>1167</td>\n",
       "      <td>1167</td>\n",
       "    </tr>\n",
       "    <tr>\n",
       "      <th>2017-January</th>\n",
       "      <td>892</td>\n",
       "      <td>260</td>\n",
       "      <td>1152</td>\n",
       "      <td>1152</td>\n",
       "    </tr>\n",
       "    <tr>\n",
       "      <th>2017-February</th>\n",
       "      <td>1004</td>\n",
       "      <td>267</td>\n",
       "      <td>1271</td>\n",
       "      <td>1271</td>\n",
       "    </tr>\n",
       "    <tr>\n",
       "      <th>2017-March</th>\n",
       "      <td>1071</td>\n",
       "      <td>258</td>\n",
       "      <td>1329</td>\n",
       "      <td>1329</td>\n",
       "    </tr>\n",
       "    <tr>\n",
       "      <th>2017-April</th>\n",
       "      <td>290</td>\n",
       "      <td>73</td>\n",
       "      <td>363</td>\n",
       "      <td>363</td>\n",
       "    </tr>\n",
       "  </tbody>\n",
       "</table>\n",
       "</div>"
      ],
      "text/plain": [
       "Item           coffee  tea  toplam  toplam2\n",
       "date_time                                  \n",
       "2016-October       93   31     124      124\n",
       "2016-November    1189  311    1500     1500\n",
       "2016-December     932  235    1167     1167\n",
       "2017-January      892  260    1152     1152\n",
       "2017-February    1004  267    1271     1271\n",
       "2017-March       1071  258    1329     1329\n",
       "2017-April        290   73     363      363"
      ]
     },
     "execution_count": 89,
     "metadata": {},
     "output_type": "execute_result"
    }
   ],
   "source": [
    "result"
   ]
  },
  {
   "cell_type": "code",
   "execution_count": 72,
   "metadata": {},
   "outputs": [
    {
     "data": {
      "text/plain": [
       "date_time\n",
       "2016-10-01     124\n",
       "2016-11-01    1500\n",
       "2016-12-01    1167\n",
       "2017-01-01    1152\n",
       "2017-02-01    1271\n",
       "2017-03-01    1329\n",
       "2017-04-01     363\n",
       "Freq: MS, dtype: int64"
      ]
     },
     "execution_count": 72,
     "metadata": {},
     "output_type": "execute_result"
    }
   ],
   "source": [
    "data_tea.resample(\"MS\").size()"
   ]
  },
  {
   "cell_type": "code",
   "execution_count": 65,
   "metadata": {},
   "outputs": [
    {
     "data": {
      "text/html": [
       "<div>\n",
       "<style scoped>\n",
       "    .dataframe tbody tr th:only-of-type {\n",
       "        vertical-align: middle;\n",
       "    }\n",
       "\n",
       "    .dataframe tbody tr th {\n",
       "        vertical-align: top;\n",
       "    }\n",
       "\n",
       "    .dataframe thead th {\n",
       "        text-align: right;\n",
       "    }\n",
       "</style>\n",
       "<table border=\"1\" class=\"dataframe\">\n",
       "  <thead>\n",
       "    <tr style=\"text-align: right;\">\n",
       "      <th></th>\n",
       "      <th>Date</th>\n",
       "      <th>Time</th>\n",
       "      <th>Transaction</th>\n",
       "      <th>Item</th>\n",
       "    </tr>\n",
       "    <tr>\n",
       "      <th>date_time</th>\n",
       "      <th></th>\n",
       "      <th></th>\n",
       "      <th></th>\n",
       "      <th></th>\n",
       "    </tr>\n",
       "  </thead>\n",
       "  <tbody>\n",
       "    <tr>\n",
       "      <th>2016-10-30 10:13:03</th>\n",
       "      <td>2016-10-30</td>\n",
       "      <td>10:13:03</td>\n",
       "      <td>5</td>\n",
       "      <td>coffee</td>\n",
       "    </tr>\n",
       "    <tr>\n",
       "      <th>2016-10-30 10:19:12</th>\n",
       "      <td>2016-10-30</td>\n",
       "      <td>10:19:12</td>\n",
       "      <td>7</td>\n",
       "      <td>coffee</td>\n",
       "    </tr>\n",
       "    <tr>\n",
       "      <th>2016-10-30 10:19:12</th>\n",
       "      <td>2016-10-30</td>\n",
       "      <td>10:19:12</td>\n",
       "      <td>7</td>\n",
       "      <td>tea</td>\n",
       "    </tr>\n",
       "    <tr>\n",
       "      <th>2016-10-30 10:30:14</th>\n",
       "      <td>2016-10-30</td>\n",
       "      <td>10:30:14</td>\n",
       "      <td>12</td>\n",
       "      <td>coffee</td>\n",
       "    </tr>\n",
       "    <tr>\n",
       "      <th>2016-10-30 10:30:14</th>\n",
       "      <td>2016-10-30</td>\n",
       "      <td>10:30:14</td>\n",
       "      <td>12</td>\n",
       "      <td>tea</td>\n",
       "    </tr>\n",
       "  </tbody>\n",
       "</table>\n",
       "</div>"
      ],
      "text/plain": [
       "                           Date      Time  Transaction    Item\n",
       "date_time                                                     \n",
       "2016-10-30 10:13:03  2016-10-30  10:13:03            5  coffee\n",
       "2016-10-30 10:19:12  2016-10-30  10:19:12            7  coffee\n",
       "2016-10-30 10:19:12  2016-10-30  10:19:12            7     tea\n",
       "2016-10-30 10:30:14  2016-10-30  10:30:14           12  coffee\n",
       "2016-10-30 10:30:14  2016-10-30  10:30:14           12     tea"
      ]
     },
     "execution_count": 65,
     "metadata": {},
     "output_type": "execute_result"
    }
   ],
   "source": [
    "data_tea.head()"
   ]
  },
  {
   "cell_type": "code",
   "execution_count": 77,
   "metadata": {},
   "outputs": [
    {
     "data": {
      "text/html": [
       "<div>\n",
       "<style scoped>\n",
       "    .dataframe tbody tr th:only-of-type {\n",
       "        vertical-align: middle;\n",
       "    }\n",
       "\n",
       "    .dataframe tbody tr th {\n",
       "        vertical-align: top;\n",
       "    }\n",
       "\n",
       "    .dataframe thead th {\n",
       "        text-align: right;\n",
       "    }\n",
       "</style>\n",
       "<table border=\"1\" class=\"dataframe\">\n",
       "  <thead>\n",
       "    <tr style=\"text-align: right;\">\n",
       "      <th></th>\n",
       "      <th>Date</th>\n",
       "      <th>Time</th>\n",
       "      <th>Transaction</th>\n",
       "      <th>Item</th>\n",
       "      <th>date_time</th>\n",
       "    </tr>\n",
       "  </thead>\n",
       "  <tbody>\n",
       "    <tr>\n",
       "      <th>7</th>\n",
       "      <td>2016-10-30</td>\n",
       "      <td>10:13:03</td>\n",
       "      <td>5</td>\n",
       "      <td>coffee</td>\n",
       "      <td>2016-10-30 10:13:03</td>\n",
       "    </tr>\n",
       "    <tr>\n",
       "      <th>15</th>\n",
       "      <td>2016-10-30</td>\n",
       "      <td>10:19:12</td>\n",
       "      <td>7</td>\n",
       "      <td>coffee</td>\n",
       "      <td>2016-10-30 10:19:12</td>\n",
       "    </tr>\n",
       "    <tr>\n",
       "      <th>16</th>\n",
       "      <td>2016-10-30</td>\n",
       "      <td>10:19:12</td>\n",
       "      <td>7</td>\n",
       "      <td>tea</td>\n",
       "      <td>2016-10-30 10:19:12</td>\n",
       "    </tr>\n",
       "    <tr>\n",
       "      <th>28</th>\n",
       "      <td>2016-10-30</td>\n",
       "      <td>10:30:14</td>\n",
       "      <td>12</td>\n",
       "      <td>coffee</td>\n",
       "      <td>2016-10-30 10:30:14</td>\n",
       "    </tr>\n",
       "    <tr>\n",
       "      <th>31</th>\n",
       "      <td>2016-10-30</td>\n",
       "      <td>10:30:14</td>\n",
       "      <td>12</td>\n",
       "      <td>tea</td>\n",
       "      <td>2016-10-30 10:30:14</td>\n",
       "    </tr>\n",
       "    <tr>\n",
       "      <th>...</th>\n",
       "      <td>...</td>\n",
       "      <td>...</td>\n",
       "      <td>...</td>\n",
       "      <td>...</td>\n",
       "      <td>...</td>\n",
       "    </tr>\n",
       "    <tr>\n",
       "      <th>21276</th>\n",
       "      <td>2017-04-09</td>\n",
       "      <td>13:49:21</td>\n",
       "      <td>9678</td>\n",
       "      <td>coffee</td>\n",
       "      <td>2017-04-09 13:49:21</td>\n",
       "    </tr>\n",
       "    <tr>\n",
       "      <th>21283</th>\n",
       "      <td>2017-04-09</td>\n",
       "      <td>14:30:09</td>\n",
       "      <td>9681</td>\n",
       "      <td>tea</td>\n",
       "      <td>2017-04-09 14:30:09</td>\n",
       "    </tr>\n",
       "    <tr>\n",
       "      <th>21288</th>\n",
       "      <td>2017-04-09</td>\n",
       "      <td>14:32:58</td>\n",
       "      <td>9682</td>\n",
       "      <td>coffee</td>\n",
       "      <td>2017-04-09 14:32:58</td>\n",
       "    </tr>\n",
       "    <tr>\n",
       "      <th>21289</th>\n",
       "      <td>2017-04-09</td>\n",
       "      <td>14:32:58</td>\n",
       "      <td>9682</td>\n",
       "      <td>tea</td>\n",
       "      <td>2017-04-09 14:32:58</td>\n",
       "    </tr>\n",
       "    <tr>\n",
       "      <th>21290</th>\n",
       "      <td>2017-04-09</td>\n",
       "      <td>14:57:06</td>\n",
       "      <td>9683</td>\n",
       "      <td>coffee</td>\n",
       "      <td>2017-04-09 14:57:06</td>\n",
       "    </tr>\n",
       "  </tbody>\n",
       "</table>\n",
       "<p>6906 rows × 5 columns</p>\n",
       "</div>"
      ],
      "text/plain": [
       "             Date      Time  Transaction    Item           date_time\n",
       "7      2016-10-30  10:13:03            5  coffee 2016-10-30 10:13:03\n",
       "15     2016-10-30  10:19:12            7  coffee 2016-10-30 10:19:12\n",
       "16     2016-10-30  10:19:12            7     tea 2016-10-30 10:19:12\n",
       "28     2016-10-30  10:30:14           12  coffee 2016-10-30 10:30:14\n",
       "31     2016-10-30  10:30:14           12     tea 2016-10-30 10:30:14\n",
       "...           ...       ...          ...     ...                 ...\n",
       "21276  2017-04-09  13:49:21         9678  coffee 2017-04-09 13:49:21\n",
       "21283  2017-04-09  14:30:09         9681     tea 2017-04-09 14:30:09\n",
       "21288  2017-04-09  14:32:58         9682  coffee 2017-04-09 14:32:58\n",
       "21289  2017-04-09  14:32:58         9682     tea 2017-04-09 14:32:58\n",
       "21290  2017-04-09  14:57:06         9683  coffee 2017-04-09 14:57:06\n",
       "\n",
       "[6906 rows x 5 columns]"
      ]
     },
     "execution_count": 77,
     "metadata": {},
     "output_type": "execute_result"
    }
   ],
   "source": [
    "data[data.Item.isin([\"coffee\",\"tea\"])]"
   ]
  },
  {
   "cell_type": "code",
   "execution_count": 90,
   "metadata": {},
   "outputs": [
    {
     "data": {
      "text/html": [
       "<div>\n",
       "<style scoped>\n",
       "    .dataframe tbody tr th:only-of-type {\n",
       "        vertical-align: middle;\n",
       "    }\n",
       "\n",
       "    .dataframe tbody tr th {\n",
       "        vertical-align: top;\n",
       "    }\n",
       "\n",
       "    .dataframe thead th {\n",
       "        text-align: right;\n",
       "    }\n",
       "</style>\n",
       "<table border=\"1\" class=\"dataframe\">\n",
       "  <thead>\n",
       "    <tr style=\"text-align: right;\">\n",
       "      <th></th>\n",
       "      <th>Date</th>\n",
       "      <th>Time</th>\n",
       "      <th>Transaction</th>\n",
       "      <th>Item</th>\n",
       "      <th>date_time</th>\n",
       "    </tr>\n",
       "  </thead>\n",
       "  <tbody>\n",
       "    <tr>\n",
       "      <th>0</th>\n",
       "      <td>2016-10-30</td>\n",
       "      <td>09:58:11</td>\n",
       "      <td>1</td>\n",
       "      <td>bread</td>\n",
       "      <td>2016-10-30 09:58:11</td>\n",
       "    </tr>\n",
       "    <tr>\n",
       "      <th>1</th>\n",
       "      <td>2016-10-30</td>\n",
       "      <td>10:05:34</td>\n",
       "      <td>2</td>\n",
       "      <td>scandinavian</td>\n",
       "      <td>2016-10-30 10:05:34</td>\n",
       "    </tr>\n",
       "    <tr>\n",
       "      <th>2</th>\n",
       "      <td>2016-10-30</td>\n",
       "      <td>10:05:34</td>\n",
       "      <td>2</td>\n",
       "      <td>scandinavian</td>\n",
       "      <td>2016-10-30 10:05:34</td>\n",
       "    </tr>\n",
       "    <tr>\n",
       "      <th>3</th>\n",
       "      <td>2016-10-30</td>\n",
       "      <td>10:07:57</td>\n",
       "      <td>3</td>\n",
       "      <td>hot chocolate</td>\n",
       "      <td>2016-10-30 10:07:57</td>\n",
       "    </tr>\n",
       "    <tr>\n",
       "      <th>4</th>\n",
       "      <td>2016-10-30</td>\n",
       "      <td>10:07:57</td>\n",
       "      <td>3</td>\n",
       "      <td>jam</td>\n",
       "      <td>2016-10-30 10:07:57</td>\n",
       "    </tr>\n",
       "  </tbody>\n",
       "</table>\n",
       "</div>"
      ],
      "text/plain": [
       "         Date      Time  Transaction           Item           date_time\n",
       "0  2016-10-30  09:58:11            1          bread 2016-10-30 09:58:11\n",
       "1  2016-10-30  10:05:34            2   scandinavian 2016-10-30 10:05:34\n",
       "2  2016-10-30  10:05:34            2   scandinavian 2016-10-30 10:05:34\n",
       "3  2016-10-30  10:07:57            3  hot chocolate 2016-10-30 10:07:57\n",
       "4  2016-10-30  10:07:57            3            jam 2016-10-30 10:07:57"
      ]
     },
     "execution_count": 90,
     "metadata": {},
     "output_type": "execute_result"
    }
   ],
   "source": [
    "data.head()"
   ]
  },
  {
   "cell_type": "code",
   "execution_count": 105,
   "metadata": {},
   "outputs": [],
   "source": [
    "data_new=pd.merge(data,price_series,left_on=\"Item\",right_index=True)"
   ]
  },
  {
   "cell_type": "code",
   "execution_count": 107,
   "metadata": {},
   "outputs": [
    {
     "data": {
      "text/plain": [
       "88359"
      ]
     },
     "execution_count": 107,
     "metadata": {},
     "output_type": "execute_result"
    }
   ],
   "source": [
    "data_new.price.sum()"
   ]
  },
  {
   "cell_type": "code",
   "execution_count": 92,
   "metadata": {},
   "outputs": [
    {
     "data": {
      "text/plain": [
       "array([9, 7, 1, 7, 8])"
      ]
     },
     "execution_count": 92,
     "metadata": {},
     "output_type": "execute_result"
    }
   ],
   "source": [
    "np.random.randint(1,10,5)"
   ]
  },
  {
   "cell_type": "code",
   "execution_count": 95,
   "metadata": {},
   "outputs": [],
   "source": [
    "np.random.seed(10)\n",
    "price_series=pd.Series(np.random.randint(1,10,data.Item.nunique()),\n",
    "                       index=data.Item.unique())"
   ]
  },
  {
   "cell_type": "code",
   "execution_count": 102,
   "metadata": {},
   "outputs": [],
   "source": [
    "price_series.name=\"price\""
   ]
  },
  {
   "cell_type": "code",
   "execution_count": 103,
   "metadata": {},
   "outputs": [
    {
     "data": {
      "text/plain": [
       "bread                    5\n",
       "scandinavian             1\n",
       "hot chocolate            2\n",
       "jam                      1\n",
       "cookies                  2\n",
       "                        ..\n",
       "gift voucher             5\n",
       "cherry me dried fruit    7\n",
       "mortimer                 7\n",
       "raw bars                 1\n",
       "tacos/fajita             3\n",
       "Name: price, Length: 95, dtype: int64"
      ]
     },
     "execution_count": 103,
     "metadata": {},
     "output_type": "execute_result"
    }
   ],
   "source": [
    "price_series"
   ]
  },
  {
   "cell_type": "code",
   "execution_count": null,
   "metadata": {},
   "outputs": [],
   "source": []
  }
 ],
 "metadata": {
  "kernelspec": {
   "display_name": "Python 3",
   "language": "python",
   "name": "python3"
  },
  "language_info": {
   "codemirror_mode": {
    "name": "ipython",
    "version": 3
   },
   "file_extension": ".py",
   "mimetype": "text/x-python",
   "name": "python",
   "nbconvert_exporter": "python",
   "pygments_lexer": "ipython3",
   "version": "3.8.5"
  }
 },
 "nbformat": 4,
 "nbformat_minor": 4
}
